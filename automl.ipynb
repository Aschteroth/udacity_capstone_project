{
  "cells": [
    {
      "cell_type": "markdown",
      "source": [
        "# Automated ML"
      ],
      "metadata": {}
    },
    {
      "cell_type": "code",
      "source": [
        "import logging\n",
        "import os\n",
        "import csv\n",
        "import json\n",
        "import requests\n",
        "import pkg_resources\n",
        "import azureml.core\n",
        "import numpy as np\n",
        "import pandas as pd\n",
        "\n",
        "from matplotlib import pyplot as plt\n",
        "\n",
        "from sklearn import datasets\n",
        "\n",
        "from azureml.core.experiment import Experiment\n",
        "from azureml.core.workspace import Workspace\n",
        "from azureml.train.automl import AutoMLConfig\n",
        "from azureml.pipeline.steps import AutoMLStep\n",
        "from azureml.core.dataset import Dataset\n",
        "from azureml.core.webservice import AciWebservice, Webservice\n",
        "from azureml.core.compute import AmlCompute\n",
        "from azureml.core.compute import ComputeTarget\n",
        "from azureml.core.compute_target import ComputeTargetException\n",
        "from azureml.core.model import InferenceConfig, Model\n",
        "\n",
        "from azureml.pipeline.steps import AutoMLStep\n",
        "from azureml.widgets import RunDetails\n",
        "\n",
        "# Check core SDK version number\n",
        "print(\"SDK version:\", azureml.core.VERSION)"
      ],
      "outputs": [
        {
          "output_type": "stream",
          "name": "stdout",
          "text": [
            "SDK version: 1.27.0\n"
          ]
        }
      ],
      "execution_count": 14,
      "metadata": {
        "gather": {
          "logged": 1620917250928
        },
        "jupyter": {
          "outputs_hidden": false,
          "source_hidden": false
        },
        "nteract": {
          "transient": {
            "deleting": false
          }
        }
      }
    },
    {
      "cell_type": "code",
      "source": [
        "ws = Workspace.from_config()\n",
        "\n",
        "# choose a name for experiment\n",
        "experiment_name = 'predict_rain_automl'\n",
        "project_folder = '.'\n",
        "\n",
        "experiment=Experiment(ws, experiment_name)\n",
        "\n",
        "amlcompute_cluster_name = \"notebook144713\"\n",
        "\n",
        "# Verify that cluster does not exist already\n",
        "try:\n",
        "    compute_target = ComputeTarget(workspace=ws, name=amlcompute_cluster_name)\n",
        "    print('Found existing cluster, use it.')\n",
        "except ComputeTargetException:\n",
        "    compute_config = AmlCompute.provisioning_configuration(vm_size='STANDARD_D2_V2',\n",
        "                                                           max_nodes=4)\n",
        "    compute_target = ComputeTarget.create(ws, amlcompute_cluster_name, compute_config)\n",
        "\n",
        "compute_target.wait_for_completion(show_output=True)\n",
        "compute_target.get_status()"
      ],
      "outputs": [
        {
          "output_type": "stream",
          "name": "stdout",
          "text": [
            "Found existing cluster, use it.\n",
            "\n",
            "Running\n"
          ]
        },
        {
          "output_type": "execute_result",
          "execution_count": 2,
          "data": {
            "text/plain": "{\n  \"errors\": [],\n  \"creationTime\": \"2021-05-13T12:33:15.043599+00:00\",\n  \"createdBy\": {\n    \"userObjectId\": \"dda90ccb-9476-4fa5-9c6f-fbc50afb3b62\",\n    \"userTenantId\": \"660b3398-b80e-49d2-bc5b-ac1dc93b5254\",\n    \"userName\": null\n  },\n  \"modifiedTime\": \"2021-05-13T12:35:31.546388+00:00\",\n  \"state\": \"Running\",\n  \"vmSize\": \"STANDARD_DS3_V2\"\n}"
          },
          "metadata": {}
        }
      ],
      "execution_count": 2,
      "metadata": {
        "collapsed": true,
        "jupyter": {
          "outputs_hidden": false,
          "source_hidden": false
        },
        "nteract": {
          "transient": {
            "deleting": false
          }
        },
        "gather": {
          "logged": 1620909657423
        }
      }
    },
    {
      "cell_type": "markdown",
      "source": [
        "## Dataset\n",
        "\n",
        "### Overview\n",
        "For this capstone project, I will use a [Dataset](https://www.kaggle.com/jsphyg/weather-dataset-rattle-package?select=weatherAUS.csv) compiled by Joe Young, originally hosted on kaggle.com and uploaded to my personal [github account](https://github.com/Aschteroth/udacity_capstone_project).\n",
        "\n",
        "The Dataset itself contains 10 years worth of meteorological data (years 2007-2017) from different places in Australia, including the info if it rained that day and if it rained the day after. \n",
        "\n",
        "This project aims to deploy a webservice that can predict if it will rain tomorrow in Australia if given a specific set of weather parameters. "
      ],
      "metadata": {}
    },
    {
      "cell_type": "code",
      "source": [
        "# Try to load the dataset from the Workspace. Otherwise, create it from the file\n",
        "found = False\n",
        "key = \"rain-in-australia\"\n",
        "description_text = \"\"\"\n",
        "This dataset contains about 10 years of daily weather observations from many locations across Australia. \n",
        "RainTomorrow is the target variable to predict. It means -- did it rain the next day, Yes or No? This column is Yes if the rain for that day was 1mm or more.\n",
        "\n",
        "Source & Acknowledgements\n",
        "Observations were drawn from numerous weather stations. The daily observations are available from http://www.bom.gov.au/climate/data.\n",
        "An example of latest weather observations in Canberra: http://www.bom.gov.au/climate/dwo/IDCJDW2801.latest.shtml\n",
        "\n",
        "Definitions adapted from http://www.bom.gov.au/climate/dwo/IDCJDW0000.shtml\n",
        "Data source: http://www.bom.gov.au/climate/dwo/ and http://www.bom.gov.au/climate/data.\n",
        "\n",
        "Copyright Commonwealth of Australia 2010, Bureau of Meteorology.\n",
        "\"\"\"\n",
        "if key in ws.datasets.keys(): \n",
        "        found = True\n",
        "        dataset = ws.datasets[key] \n",
        "\n",
        "if not found:\n",
        "        # Create AML Dataset and register it into Workspace\n",
        "        import requests\n",
        "        url = 'https://raw.githubusercontent.com/Aschteroth/udacity_capstone_project/main/weatherAUS.csv'\n",
        "        dataset = Dataset.Tabular.from_delimited_files(url)        \n",
        "        #Register Dataset in Workspace\n",
        "        dataset = dataset.register(workspace=ws,\n",
        "                                   name=key,\n",
        "                                   description=description_text)\n",
        "\n",
        "\n",
        "df = dataset.to_pandas_dataframe()\n",
        "df.info()"
      ],
      "outputs": [
        {
          "output_type": "stream",
          "name": "stdout",
          "text": [
            "<class 'pandas.core.frame.DataFrame'>\n",
            "RangeIndex: 145460 entries, 0 to 145459\n",
            "Data columns (total 23 columns):\n",
            "Date             145460 non-null object\n",
            "Location         145460 non-null object\n",
            "MinTemp          143975 non-null float64\n",
            "MaxTemp          144199 non-null float64\n",
            "Rainfall         142199 non-null float64\n",
            "Evaporation      82670 non-null object\n",
            "Sunshine         75625 non-null object\n",
            "WindGustDir      135134 non-null object\n",
            "WindGustSpeed    135197 non-null float64\n",
            "WindDir9am       134894 non-null object\n",
            "WindDir3pm       141232 non-null object\n",
            "WindSpeed9am     143693 non-null float64\n",
            "WindSpeed3pm     142398 non-null float64\n",
            "Humidity9am      142806 non-null float64\n",
            "Humidity3pm      140953 non-null float64\n",
            "Pressure9am      130395 non-null float64\n",
            "Pressure3pm      130432 non-null float64\n",
            "Cloud9am         89572 non-null float64\n",
            "Cloud3pm         86102 non-null float64\n",
            "Temp9am          143693 non-null float64\n",
            "Temp3pm          141851 non-null float64\n",
            "RainToday        142199 non-null object\n",
            "RainTomorrow     142193 non-null object\n",
            "dtypes: float64(14), object(9)\n",
            "memory usage: 25.5+ MB\n"
          ]
        }
      ],
      "execution_count": 3,
      "metadata": {
        "gather": {
          "logged": 1620909671844
        },
        "jupyter": {
          "outputs_hidden": false,
          "source_hidden": false
        },
        "nteract": {
          "transient": {
            "deleting": false
          }
        },
        "scrolled": true
      }
    },
    {
      "cell_type": "markdown",
      "source": [
        "## AutoML Configuration\n",
        "\n",
        "For this project, I decided to stick with the automl-settings that we used in the previous excercise. \n",
        "\n",
        "- The timeout is set to 20 minutes for efficiency reasons\n",
        "- the number of max concurrent iterations is set to 5, one below the maximum number of nodes\n",
        "- for the primary metric, I chose AUC_weighted (Area under the curve) \n",
        "\n",
        "My choices for the config were as follows: \n",
        "\n",
        "- Since we want to answer the question \"Will it rain in Australia tomorrow?\" where The answer is of a binary nature, either \"Yes\" or \"No\", we are obviously dealing with a classification problem. \n",
        "- Our target column is \"RainTomorrow\"\n",
        "- Since this is just a project to show my newly aquired skills, I enabled early stopping (otherwise, the model might run for several days)"
      ],
      "metadata": {}
    },
    {
      "cell_type": "code",
      "source": [
        "automl_settings = {\n",
        "    \"experiment_timeout_minutes\": 20,\n",
        "    \"max_concurrent_iterations\": 5,\n",
        "    \"primary_metric\" : 'AUC_weighted'\n",
        "}\n",
        "\n",
        "automl_config = AutoMLConfig(compute_target=compute_target,\n",
        "                             task = \"classification\",\n",
        "                             training_data=dataset,\n",
        "                             label_column_name=\"RainTomorrow\",   \n",
        "                             path = project_folder,\n",
        "                             enable_early_stopping= True,\n",
        "                             featurization= 'auto',\n",
        "                             debug_log = \"automl_errors.log\",\n",
        "                             **automl_settings\n",
        "                            )"
      ],
      "outputs": [],
      "execution_count": 4,
      "metadata": {
        "gather": {
          "logged": 1620909685490
        },
        "jupyter": {
          "outputs_hidden": false,
          "source_hidden": false
        },
        "nteract": {
          "transient": {
            "deleting": false
          }
        }
      }
    },
    {
      "cell_type": "code",
      "source": [
        "# Submit the experiment\n",
        "remote_run = experiment.submit(automl_config, show_output=True)"
      ],
      "outputs": [
        {
          "output_type": "stream",
          "name": "stdout",
          "text": [
            "Submitting remote run.\n",
            "No run_configuration provided, running on notebook144713 with default configuration\n",
            "Running on remote compute: notebook144713\n"
          ]
        },
        {
          "output_type": "display_data",
          "data": {
            "text/plain": "<IPython.core.display.HTML object>",
            "text/html": "<table style=\"width:100%\"><tr><th>Experiment</th><th>Id</th><th>Type</th><th>Status</th><th>Details Page</th><th>Docs Page</th></tr><tr><td>predict_rain_automl</td><td>AutoML_87495046-e406-4aaf-94ae-1fe2afbc4734</td><td>automl</td><td>NotStarted</td><td><a href=\"https://ml.azure.com/runs/AutoML_87495046-e406-4aaf-94ae-1fe2afbc4734?wsid=/subscriptions/61c5c3f0-6dc7-4ed9-a7f3-c704b20e3b30/resourcegroups/aml-quickstarts-144713/workspaces/quick-starts-ws-144713&amp;tid=660b3398-b80e-49d2-bc5b-ac1dc93b5254\" target=\"_blank\" rel=\"noopener\">Link to Azure Machine Learning studio</a></td><td><a href=\"https://docs.microsoft.com/en-us/python/api/overview/azure/ml/intro?view=azure-ml-py\" target=\"_blank\" rel=\"noopener\">Link to Documentation</a></td></tr></table>"
          },
          "metadata": {}
        },
        {
          "output_type": "stream",
          "name": "stdout",
          "text": [
            "\n",
            "Current status: FeaturesGeneration. Generating features for the dataset.\n",
            "Current status: DatasetFeaturization. Beginning to fit featurizers and featurize the dataset.\n",
            "Current status: DatasetFeaturizationCompleted. Completed fit featurizers and featurizing the dataset.\n",
            "Current status: ModelSelection. Beginning model selection.\n",
            "\n",
            "****************************************************************************************************\n",
            "DATA GUARDRAILS: \n",
            "\n",
            "TYPE:         Train-Test data split\n",
            "STATUS:       DONE\n",
            "DESCRIPTION:  Your input data has been split into a training dataset and a holdout test dataset for validation of the model. The test holdout dataset reflects the original distribution of your input data.\n",
            "              \n",
            "DETAILS:      \n",
            "+---------------------------------+---------------------------------+---------------------------------+\n",
            "|Dataset                          |Row counts                       |Percentage                       |\n",
            "+=================================+=================================+=================================+\n",
            "|train                            |130914                           |90.0                             |\n",
            "|test                             |14546                            |10.0                             |\n",
            "+---------------------------------+---------------------------------+---------------------------------+\n",
            "\n",
            "****************************************************************************************************\n",
            "\n",
            "TYPE:         Class balancing detection\n",
            "STATUS:       PASSED\n",
            "DESCRIPTION:  Your inputs were analyzed, and all classes are balanced in your training data.\n",
            "              Learn more about imbalanced data: https://aka.ms/AutomatedMLImbalancedData\n",
            "\n",
            "****************************************************************************************************\n",
            "\n",
            "TYPE:         Missing feature values imputation\n",
            "STATUS:       DONE\n",
            "DESCRIPTION:  If the missing values are expected, let the run complete. Otherwise cancel the current run and use a script to customize the handling of missing feature values that may be more appropriate based on the data type and business requirement.\n",
            "              Learn more about missing value imputation: https://aka.ms/AutomatedMLFeaturization\n",
            "DETAILS:      \n",
            "+---------------------------------+---------------------------------+---------------------------------+\n",
            "|Column name                      |Missing value count              |Imputation type                  |\n",
            "+=================================+=================================+=================================+\n",
            "|MinTemp                          |575                              |mean                             |\n",
            "|MaxTemp                          |293                              |mean                             |\n",
            "|Rainfall                         |1255                             |mean                             |\n",
            "|Sunshine                         |61118                            |                                 |\n",
            "|WindGustDir                      |8390                             |                                 |\n",
            "|WindGustSpeed                    |8338                             |mean                             |\n",
            "|WindDir9am                       |9017                             |                                 |\n",
            "|WindDir3pm                       |3423                             |                                 |\n",
            "|WindSpeed9am                     |1218                             |mean                             |\n",
            "|WindSpeed3pm                     |2381                             |mean                             |\n",
            "|Humidity9am                      |1589                             |mean                             |\n",
            "|Humidity3pm                      |3259                             |mean                             |\n",
            "|Pressure9am                      |12600                            |mean                             |\n",
            "|Pressure3pm                      |12582                            |mean                             |\n",
            "|Cloud9am                         |48328                            |mean                             |\n",
            "|Cloud3pm                         |51441                            |mean                             |\n",
            "|Temp9am                          |808                              |mean                             |\n",
            "|Temp3pm                          |2468                             |mean                             |\n",
            "|RainToday                        |1255                             |                                 |\n",
            "+---------------------------------+---------------------------------+---------------------------------+\n",
            "\n",
            "****************************************************************************************************\n",
            "\n",
            "TYPE:         High cardinality feature detection\n",
            "STATUS:       DONE\n",
            "DESCRIPTION:  High cardinality features were detected in your inputs and handled.\n",
            "              Learn more about high cardinality feature handling: https://aka.ms/AutomatedMLFeaturization\n",
            "DETAILS:      High cardinality features refer to columns that contain a large percentage of unique values.\n",
            "+---------------------------------+---------------------------------+\n",
            "|Column name                      |Column Content Type              |\n",
            "+=================================+=================================+\n",
            "|Date                             |categorical_hash                 |\n",
            "|Evaporation                      |categorical_hash                 |\n",
            "+---------------------------------+---------------------------------+\n",
            "\n",
            "****************************************************************************************************\n",
            "\n",
            "****************************************************************************************************\n",
            "ITERATION: The iteration being evaluated.\n",
            "PIPELINE: A summary description of the pipeline being evaluated.\n",
            "DURATION: Time taken for the current iteration.\n",
            "METRIC: The result of computing score on the fitted pipeline.\n",
            "BEST: The best observed score thus far.\n",
            "****************************************************************************************************\n",
            "\n",
            " ITERATION   PIPELINE                                       DURATION      METRIC      BEST\n",
            "         2   MaxAbsScaler RandomForest                      0:05:50       0.7934    0.7934\n",
            "         3   MaxAbsScaler RandomForest                      0:05:51       0.6839    0.7934\n",
            "         4   MaxAbsScaler RandomForest                      0:05:51       0.7299    0.7934\n",
            "         0   MaxAbsScaler LightGBM                          0:06:26       0.8880    0.8880\n",
            "         1   MaxAbsScaler XGBoostClassifier                 0:06:39       0.8689    0.8880\n",
            "         5   MaxAbsScaler ExtremeRandomTrees                0:05:49       0.8211    0.8880\n",
            "         6   MaxAbsScaler ExtremeRandomTrees                0:05:51       0.8349    0.8880\n",
            "         7   MaxAbsScaler ExtremeRandomTrees                0:05:47       0.7871    0.8880\n",
            "         8   MaxAbsScaler RandomForest                      0:06:27       0.8255    0.8880\n",
            "         9   MaxAbsScaler ExtremeRandomTrees                0:06:27       0.8190    0.8880\n",
            "        10   MaxAbsScaler RandomForest                      0:05:50       0.7963    0.8880\n",
            "        11   MaxAbsScaler RandomForest                      0:05:49       0.8243    0.8880\n",
            "        12   MaxAbsScaler RandomForest                      0:05:50       0.8211    0.8880\n",
            "        13   StandardScalerWrapper XGBoostClassifier        0:07:36       0.8506    0.8880\n",
            "ERROR: {\n",
            "    \"additional_properties\": {},\n",
            "    \"error\": {\n",
            "        \"additional_properties\": {\n",
            "            \"debugInfo\": null\n",
            "        },\n",
            "        \"code\": \"UserError\",\n",
            "        \"severity\": null,\n",
            "        \"message\": \"Experiment timeout reached, please consider increasing your experiment timeout.\",\n",
            "        \"message_format\": \"Experiment timeout reached, please consider increasing your experiment timeout.\",\n",
            "        \"message_parameters\": {},\n",
            "        \"reference_code\": null,\n",
            "        \"details_uri\": null,\n",
            "        \"target\": null,\n",
            "        \"details\": [],\n",
            "        \"inner_error\": {\n",
            "            \"additional_properties\": {},\n",
            "            \"code\": \"ResourceExhausted\",\n",
            "            \"inner_error\": {\n",
            "                \"additional_properties\": {},\n",
            "                \"code\": \"Timeout\",\n",
            "                \"inner_error\": {\n",
            "                    \"additional_properties\": {},\n",
            "                    \"code\": \"ExperimentTimeoutForIterations\",\n",
            "                    \"inner_error\": null\n",
            "                }\n",
            "            }\n",
            "        }\n",
            "    },\n",
            "    \"correlation\": null,\n",
            "    \"environment\": null,\n",
            "    \"location\": null,\n",
            "    \"time\": {},\n",
            "    \"component_name\": null\n",
            "}\n",
            "        14   MaxAbsScaler RandomForest                      0:07:31       0.5278    0.8880\n",
            "        15                                                  0:03:09          nan    0.8880\n",
            "ERROR: {\n",
            "    \"additional_properties\": {},\n",
            "    \"error\": {\n",
            "        \"additional_properties\": {\n",
            "            \"debugInfo\": null\n",
            "        },\n",
            "        \"code\": \"UserError\",\n",
            "        \"severity\": null,\n",
            "        \"message\": \"Experiment timeout reached, please consider increasing your experiment timeout.\",\n",
            "        \"message_format\": \"Experiment timeout reached, please consider increasing your experiment timeout.\",\n",
            "        \"message_parameters\": {},\n",
            "        \"reference_code\": null,\n",
            "        \"details_uri\": null,\n",
            "        \"target\": null,\n",
            "        \"details\": [],\n",
            "        \"inner_error\": {\n",
            "            \"additional_properties\": {},\n",
            "            \"code\": \"ResourceExhausted\",\n",
            "            \"inner_error\": {\n",
            "                \"additional_properties\": {},\n",
            "                \"code\": \"Timeout\",\n",
            "                \"inner_error\": {\n",
            "                    \"additional_properties\": {},\n",
            "                    \"code\": \"ExperimentTimeoutForIterations\",\n",
            "                    \"inner_error\": null\n",
            "                }\n",
            "            }\n",
            "        }\n",
            "    },\n",
            "    \"correlation\": null,\n",
            "    \"environment\": null,\n",
            "    \"location\": null,\n",
            "    \"time\": {},\n",
            "    \"component_name\": null\n",
            "}\n",
            "        16                                                  0:03:07          nan    0.8880\n",
            "ERROR: {\n",
            "    \"additional_properties\": {},\n",
            "    \"error\": {\n",
            "        \"additional_properties\": {\n",
            "            \"debugInfo\": null\n",
            "        },\n",
            "        \"code\": \"UserError\",\n",
            "        \"severity\": null,\n",
            "        \"message\": \"Experiment timeout reached, please consider increasing your experiment timeout.\",\n",
            "        \"message_format\": \"Experiment timeout reached, please consider increasing your experiment timeout.\",\n",
            "        \"message_parameters\": {},\n",
            "        \"reference_code\": null,\n",
            "        \"details_uri\": null,\n",
            "        \"target\": null,\n",
            "        \"details\": [],\n",
            "        \"inner_error\": {\n",
            "            \"additional_properties\": {},\n",
            "            \"code\": \"ResourceExhausted\",\n",
            "            \"inner_error\": {\n",
            "                \"additional_properties\": {},\n",
            "                \"code\": \"Timeout\",\n",
            "                \"inner_error\": {\n",
            "                    \"additional_properties\": {},\n",
            "                    \"code\": \"ExperimentTimeoutForIterations\",\n",
            "                    \"inner_error\": null\n",
            "                }\n",
            "            }\n",
            "        }\n",
            "    },\n",
            "    \"correlation\": null,\n",
            "    \"environment\": null,\n",
            "    \"location\": null,\n",
            "    \"time\": {},\n",
            "    \"component_name\": null\n",
            "}\n",
            "        17                                                  0:03:07          nan    0.8880\n",
            "ERROR: {\n",
            "    \"additional_properties\": {},\n",
            "    \"error\": {\n",
            "        \"additional_properties\": {\n",
            "            \"debugInfo\": null\n",
            "        },\n",
            "        \"code\": \"UserError\",\n",
            "        \"severity\": null,\n",
            "        \"message\": \"Experiment timeout reached, please consider increasing your experiment timeout.\",\n",
            "        \"message_format\": \"Experiment timeout reached, please consider increasing your experiment timeout.\",\n",
            "        \"message_parameters\": {},\n",
            "        \"reference_code\": null,\n",
            "        \"details_uri\": null,\n",
            "        \"target\": null,\n",
            "        \"details\": [],\n",
            "        \"inner_error\": {\n",
            "            \"additional_properties\": {},\n",
            "            \"code\": \"ResourceExhausted\",\n",
            "            \"inner_error\": {\n",
            "                \"additional_properties\": {},\n",
            "                \"code\": \"Timeout\",\n",
            "                \"inner_error\": {\n",
            "                    \"additional_properties\": {},\n",
            "                    \"code\": \"ExperimentTimeoutForIterations\",\n",
            "                    \"inner_error\": null\n",
            "                }\n",
            "            }\n",
            "        }\n",
            "    },\n",
            "    \"correlation\": null,\n",
            "    \"environment\": null,\n",
            "    \"location\": null,\n",
            "    \"time\": {},\n",
            "    \"component_name\": null\n",
            "}\n",
            "        18    VotingEnsemble                                0:05:55       0.8869    0.8880\n",
            "        19    StackEnsemble                                 0:06:14       0.8900    0.8900\n"
          ]
        }
      ],
      "execution_count": 5,
      "metadata": {
        "gather": {
          "logged": 1620912419405
        },
        "jupyter": {
          "outputs_hidden": false,
          "source_hidden": false
        },
        "nteract": {
          "transient": {
            "deleting": false
          }
        }
      }
    },
    {
      "cell_type": "markdown",
      "source": [
        "## Run Details"
      ],
      "metadata": {}
    },
    {
      "cell_type": "code",
      "source": [
        "RunDetails(remote_run).show()"
      ],
      "outputs": [
        {
          "output_type": "display_data",
          "data": {
            "text/plain": "_AutoMLWidget(widget_settings={'childWidgetDisplay': 'popup', 'send_telemetry': False, 'log_level': 'INFO', 's…",
            "application/vnd.jupyter.widget-view+json": {
              "version_major": 2,
              "version_minor": 0,
              "model_id": "98daff40e4b241d98f57b990e5851a39"
            }
          },
          "metadata": {}
        },
        {
          "output_type": "display_data",
          "data": {
            "application/aml.mini.widget.v1": "{\"status\": \"Completed\", \"workbench_run_details_uri\": \"https://ml.azure.com/runs/AutoML_87495046-e406-4aaf-94ae-1fe2afbc4734?wsid=/subscriptions/61c5c3f0-6dc7-4ed9-a7f3-c704b20e3b30/resourcegroups/aml-quickstarts-144713/workspaces/quick-starts-ws-144713&tid=660b3398-b80e-49d2-bc5b-ac1dc93b5254\", \"run_id\": \"AutoML_87495046-e406-4aaf-94ae-1fe2afbc4734\", \"run_properties\": {\"run_id\": \"AutoML_87495046-e406-4aaf-94ae-1fe2afbc4734\", \"created_utc\": \"2021-05-13T12:42:39.362624Z\", \"properties\": {\"num_iterations\": \"1000\", \"training_type\": \"TrainFull\", \"acquisition_function\": \"EI\", \"primary_metric\": \"AUC_weighted\", \"train_split\": \"0\", \"acquisition_parameter\": \"0\", \"num_cross_validation\": null, \"target\": \"notebook144713\", \"AMLSettingsJsonString\": \"{\\\"path\\\":null,\\\"name\\\":\\\"predict_rain_automl\\\",\\\"subscription_id\\\":\\\"61c5c3f0-6dc7-4ed9-a7f3-c704b20e3b30\\\",\\\"resource_group\\\":\\\"aml-quickstarts-144713\\\",\\\"workspace_name\\\":\\\"quick-starts-ws-144713\\\",\\\"region\\\":\\\"southcentralus\\\",\\\"compute_target\\\":\\\"notebook144713\\\",\\\"spark_service\\\":null,\\\"azure_service\\\":\\\"remote\\\",\\\"many_models\\\":false,\\\"pipeline_fetch_max_batch_size\\\":1,\\\"enable_batch_run\\\":false,\\\"enable_run_restructure\\\":false,\\\"start_auxiliary_runs_before_parent_complete\\\":false,\\\"iterations\\\":1000,\\\"primary_metric\\\":\\\"AUC_weighted\\\",\\\"task_type\\\":\\\"classification\\\",\\\"data_script\\\":null,\\\"test_size\\\":0.0,\\\"validation_size\\\":0.0,\\\"n_cross_validations\\\":null,\\\"y_min\\\":null,\\\"y_max\\\":null,\\\"num_classes\\\":null,\\\"featurization\\\":\\\"auto\\\",\\\"_ignore_package_version_incompatibilities\\\":false,\\\"is_timeseries\\\":false,\\\"max_cores_per_iteration\\\":1,\\\"max_concurrent_iterations\\\":5,\\\"iteration_timeout_minutes\\\":null,\\\"mem_in_mb\\\":null,\\\"enforce_time_on_windows\\\":false,\\\"experiment_timeout_minutes\\\":20,\\\"experiment_exit_score\\\":null,\\\"whitelist_models\\\":null,\\\"blacklist_algos\\\":[\\\"TensorFlowLinearClassifier\\\",\\\"TensorFlowDNN\\\"],\\\"supported_models\\\":[\\\"LinearSVM\\\",\\\"LightGBM\\\",\\\"XGBoostClassifier\\\",\\\"AveragedPerceptronClassifier\\\",\\\"TensorFlowDNN\\\",\\\"SGD\\\",\\\"BernoulliNaiveBayes\\\",\\\"RandomForest\\\",\\\"KNN\\\",\\\"ExtremeRandomTrees\\\",\\\"MultinomialNaiveBayes\\\",\\\"TensorFlowLinearClassifier\\\",\\\"GradientBoosting\\\",\\\"DecisionTree\\\",\\\"LogisticRegression\\\",\\\"SVM\\\"],\\\"private_models\\\":[],\\\"auto_blacklist\\\":true,\\\"blacklist_samples_reached\\\":false,\\\"exclude_nan_labels\\\":true,\\\"verbosity\\\":20,\\\"_debug_log\\\":\\\"azureml_automl.log\\\",\\\"show_warnings\\\":false,\\\"model_explainability\\\":true,\\\"service_url\\\":null,\\\"sdk_url\\\":null,\\\"sdk_packages\\\":null,\\\"enable_onnx_compatible_models\\\":false,\\\"enable_split_onnx_featurizer_estimator_models\\\":false,\\\"vm_type\\\":\\\"STANDARD_DS3_V2\\\",\\\"telemetry_verbosity\\\":20,\\\"send_telemetry\\\":true,\\\"enable_dnn\\\":false,\\\"scenario\\\":\\\"SDK-1.13.0\\\",\\\"environment_label\\\":null,\\\"save_mlflow\\\":false,\\\"force_text_dnn\\\":false,\\\"enable_feature_sweeping\\\":true,\\\"enable_early_stopping\\\":true,\\\"early_stopping_n_iters\\\":10,\\\"metrics\\\":null,\\\"enable_metric_confidence\\\":false,\\\"enable_ensembling\\\":true,\\\"enable_stack_ensembling\\\":true,\\\"ensemble_iterations\\\":15,\\\"enable_tf\\\":false,\\\"enable_subsampling\\\":null,\\\"subsample_seed\\\":null,\\\"enable_nimbusml\\\":false,\\\"enable_streaming\\\":false,\\\"force_streaming\\\":false,\\\"track_child_runs\\\":true,\\\"allowed_private_models\\\":[],\\\"label_column_name\\\":\\\"RainTomorrow\\\",\\\"weight_column_name\\\":null,\\\"cv_split_column_names\\\":null,\\\"enable_local_managed\\\":false,\\\"_local_managed_run_id\\\":null,\\\"cost_mode\\\":1,\\\"lag_length\\\":0,\\\"metric_operation\\\":\\\"maximize\\\",\\\"preprocess\\\":true}\", \"DataPrepJsonString\": \"{\\\\\\\"training_data\\\\\\\": {\\\\\\\"datasetId\\\\\\\": \\\\\\\"be814d1e-b570-4b1c-b157-3b738027b051\\\\\\\"}, \\\\\\\"datasets\\\\\\\": 0}\", \"EnableSubsampling\": null, \"runTemplate\": \"AutoML\", \"azureml.runsource\": \"automl\", \"display_task_type\": \"classification\", \"dependencies_versions\": \"{\\\"azureml-widgets\\\": \\\"1.27.0\\\", \\\"azureml-train\\\": \\\"1.27.0\\\", \\\"azureml-train-restclients-hyperdrive\\\": \\\"1.27.0\\\", \\\"azureml-train-core\\\": \\\"1.27.0\\\", \\\"azureml-train-automl\\\": \\\"1.27.0\\\", \\\"azureml-train-automl-runtime\\\": \\\"1.27.0\\\", \\\"azureml-train-automl-client\\\": \\\"1.27.0\\\", \\\"azureml-tensorboard\\\": \\\"1.27.0\\\", \\\"azureml-telemetry\\\": \\\"1.27.0\\\", \\\"azureml-sdk\\\": \\\"1.27.0\\\", \\\"azureml-samples\\\": \\\"0+unknown\\\", \\\"azureml-pipeline\\\": \\\"1.27.0\\\", \\\"azureml-pipeline-steps\\\": \\\"1.27.0\\\", \\\"azureml-pipeline-core\\\": \\\"1.27.0\\\", \\\"azureml-opendatasets\\\": \\\"1.27.0\\\", \\\"azureml-model-management-sdk\\\": \\\"1.0.1b6.post1\\\", \\\"azureml-mlflow\\\": \\\"1.27.0\\\", \\\"azureml-interpret\\\": \\\"1.27.0\\\", \\\"azureml-explain-model\\\": \\\"1.27.0\\\", \\\"azureml-defaults\\\": \\\"1.27.0\\\", \\\"azureml-dataset-runtime\\\": \\\"1.27.0\\\", \\\"azureml-dataprep\\\": \\\"2.14.2\\\", \\\"azureml-dataprep-rslex\\\": \\\"1.12.1\\\", \\\"azureml-dataprep-native\\\": \\\"33.0.0\\\", \\\"azureml-datadrift\\\": \\\"1.27.0\\\", \\\"azureml-core\\\": \\\"1.27.0\\\", \\\"azureml-contrib-services\\\": \\\"1.27.0\\\", \\\"azureml-contrib-server\\\": \\\"1.27.0\\\", \\\"azureml-contrib-reinforcementlearning\\\": \\\"1.27.0\\\", \\\"azureml-contrib-pipeline-steps\\\": \\\"1.27.0\\\", \\\"azureml-contrib-notebook\\\": \\\"1.27.0\\\", \\\"azureml-contrib-gbdt\\\": \\\"1.27.0\\\", \\\"azureml-contrib-fairness\\\": \\\"1.27.0\\\", \\\"azureml-contrib-dataset\\\": \\\"1.27.0\\\", \\\"azureml-cli-common\\\": \\\"1.27.0\\\", \\\"azureml-automl-runtime\\\": \\\"1.27.0\\\", \\\"azureml-automl-dnn-nlp\\\": \\\"1.27.0\\\", \\\"azureml-automl-core\\\": \\\"1.27.0\\\", \\\"azureml-accel-models\\\": \\\"1.27.0\\\"}\", \"_aml_system_scenario_identification\": \"Remote.Parent\", \"ClientType\": \"SDK\", \"environment_cpu_name\": \"AzureML-AutoML\", \"environment_cpu_label\": \"prod\", \"environment_gpu_name\": \"AzureML-AutoML-GPU\", \"environment_gpu_label\": \"prod\", \"root_attribution\": \"automl\", \"attribution\": \"AutoML\", \"Orchestrator\": \"AutoML\", \"CancelUri\": \"https://southcentralus.api.azureml.ms/jasmine/v1.0/subscriptions/61c5c3f0-6dc7-4ed9-a7f3-c704b20e3b30/resourceGroups/aml-quickstarts-144713/providers/Microsoft.MachineLearningServices/workspaces/quick-starts-ws-144713/experimentids/3d74c035-92bb-46f5-a5d5-7e6b53a3ef6d/cancel/AutoML_87495046-e406-4aaf-94ae-1fe2afbc4734\", \"ClientSdkVersion\": \"1.27.0.post1\", \"snapshotId\": \"00000000-0000-0000-0000-000000000000\", \"SetupRunId\": \"AutoML_87495046-e406-4aaf-94ae-1fe2afbc4734_setup\", \"SetupRunContainerId\": \"dcid.AutoML_87495046-e406-4aaf-94ae-1fe2afbc4734_setup\", \"FeaturizationRunJsonPath\": \"featurizer_container.json\", \"FeaturizationRunId\": \"AutoML_87495046-e406-4aaf-94ae-1fe2afbc4734_featurize\", \"ProblemInfoJsonString\": \"{\\\"dataset_num_categorical\\\": 0, \\\"is_sparse\\\": true, \\\"subsampling\\\": false, \\\"dataset_classes\\\": 2, \\\"dataset_features\\\": 2574, \\\"dataset_samples\\\": 127976, \\\"single_frequency_class_detected\\\": false}\", \"ModelExplainRunId\": \"AutoML_87495046-e406-4aaf-94ae-1fe2afbc4734_ModelExplain\"}, \"tags\": {\"model_explain_run\": \"best_run\", \"_aml_system_azureml.automlComponent\": \"AutoML\", \"pipeline_id\": \"\", \"score\": \"\", \"predicted_cost\": \"\", \"fit_time\": \"\", \"training_percent\": \"\", \"iteration\": \"\", \"run_preprocessor\": \"\", \"run_algorithm\": \"\", \"automl_best_child_run_id\": \"AutoML_87495046-e406-4aaf-94ae-1fe2afbc4734_19\", \"model_explain_best_run_child_id\": \"AutoML_87495046-e406-4aaf-94ae-1fe2afbc4734_19\"}, \"end_time_utc\": \"2021-05-13T13:26:47.502069Z\", \"status\": \"Completed\", \"log_files\": {}, \"log_groups\": [], \"run_duration\": \"0:44:08\", \"run_number\": \"1\", \"run_queued_details\": {\"status\": \"Completed\", \"details\": null}}, \"child_runs\": [{\"run_id\": \"AutoML_87495046-e406-4aaf-94ae-1fe2afbc4734_0\", \"run_number\": 5, \"metric\": null, \"status\": \"Completed\", \"run_type\": \"azureml.scriptrun\", \"training_percent\": \"100\", \"start_time\": \"2021-05-13T12:59:20.858229Z\", \"end_time\": \"2021-05-13T13:05:47.2449Z\", \"created_time\": \"2021-05-13T12:58:55.831693Z\", \"created_time_dt\": \"2021-05-13T12:58:55.831693Z\", \"duration\": \"0:06:51\", \"iteration\": \"0\", \"goal\": \"AUC_weighted_max\", \"run_name\": \"MaxAbsScaler, LightGBM\", \"run_properties\": \"copy=True\", \"primary_metric\": 0.88802056, \"best_metric\": 0.88802056}, {\"run_id\": \"AutoML_87495046-e406-4aaf-94ae-1fe2afbc4734_3\", \"run_number\": 6, \"metric\": null, \"status\": \"Completed\", \"run_type\": \"azureml.scriptrun\", \"training_percent\": \"100\", \"start_time\": \"2021-05-13T12:59:08.118067Z\", \"end_time\": \"2021-05-13T13:04:58.880226Z\", \"created_time\": \"2021-05-13T12:58:55.851134Z\", \"created_time_dt\": \"2021-05-13T12:58:55.851134Z\", \"duration\": \"0:06:03\", \"iteration\": \"3\", \"goal\": \"AUC_weighted_max\", \"run_name\": \"MaxAbsScaler, RandomForest\", \"run_properties\": \"copy=True\", \"primary_metric\": 0.68393887, \"best_metric\": 0.88802056}, {\"run_id\": \"AutoML_87495046-e406-4aaf-94ae-1fe2afbc4734_1\", \"run_number\": 7, \"metric\": null, \"status\": \"Completed\", \"run_type\": \"azureml.scriptrun\", \"training_percent\": \"100\", \"start_time\": \"2021-05-13T12:59:08.009354Z\", \"end_time\": \"2021-05-13T13:05:46.804837Z\", \"created_time\": \"2021-05-13T12:58:55.857196Z\", \"created_time_dt\": \"2021-05-13T12:58:55.857196Z\", \"duration\": \"0:06:50\", \"iteration\": \"1\", \"goal\": \"AUC_weighted_max\", \"run_name\": \"MaxAbsScaler, XGBoostClassifier\", \"run_properties\": \"copy=True\", \"primary_metric\": 0.86893165, \"best_metric\": 0.88802056}, {\"run_id\": \"AutoML_87495046-e406-4aaf-94ae-1fe2afbc4734_4\", \"run_number\": 8, \"metric\": null, \"status\": \"Completed\", \"run_type\": \"azureml.scriptrun\", \"training_percent\": \"100\", \"start_time\": \"2021-05-13T12:59:08.009691Z\", \"end_time\": \"2021-05-13T13:04:58.655455Z\", \"created_time\": \"2021-05-13T12:58:55.899641Z\", \"created_time_dt\": \"2021-05-13T12:58:55.899641Z\", \"duration\": \"0:06:02\", \"iteration\": \"4\", \"goal\": \"AUC_weighted_max\", \"run_name\": \"MaxAbsScaler, RandomForest\", \"run_properties\": \"copy=True\", \"primary_metric\": 0.72987326, \"best_metric\": 0.88802056}, {\"run_id\": \"AutoML_87495046-e406-4aaf-94ae-1fe2afbc4734_2\", \"run_number\": 9, \"metric\": null, \"status\": \"Completed\", \"run_type\": \"azureml.scriptrun\", \"training_percent\": \"100\", \"start_time\": \"2021-05-13T12:59:07.978098Z\", \"end_time\": \"2021-05-13T13:04:57.930024Z\", \"created_time\": \"2021-05-13T12:58:55.859474Z\", \"created_time_dt\": \"2021-05-13T12:58:55.859474Z\", \"duration\": \"0:06:02\", \"iteration\": \"2\", \"goal\": \"AUC_weighted_max\", \"run_name\": \"MaxAbsScaler, RandomForest\", \"run_properties\": \"copy=True\", \"primary_metric\": 0.79341321, \"best_metric\": 0.88802056}, {\"run_id\": \"AutoML_87495046-e406-4aaf-94ae-1fe2afbc4734_5\", \"run_number\": 10, \"metric\": null, \"status\": \"Completed\", \"run_type\": \"azureml.scriptrun\", \"training_percent\": \"100\", \"start_time\": \"2021-05-13T13:05:12.380717Z\", \"end_time\": \"2021-05-13T13:11:01.288966Z\", \"created_time\": \"2021-05-13T13:05:01.538004Z\", \"created_time_dt\": \"2021-05-13T13:05:01.538004Z\", \"duration\": \"0:05:59\", \"iteration\": \"5\", \"goal\": \"AUC_weighted_max\", \"run_name\": \"MaxAbsScaler, ExtremeRandomTrees\", \"run_properties\": \"copy=True\", \"primary_metric\": 0.82106687, \"best_metric\": 0.88802056}, {\"run_id\": \"AutoML_87495046-e406-4aaf-94ae-1fe2afbc4734_6\", \"run_number\": 11, \"metric\": null, \"status\": \"Completed\", \"run_type\": \"azureml.scriptrun\", \"training_percent\": \"100\", \"start_time\": \"2021-05-13T13:05:12.299278Z\", \"end_time\": \"2021-05-13T13:11:03.294454Z\", \"created_time\": \"2021-05-13T13:05:05.930833Z\", \"created_time_dt\": \"2021-05-13T13:05:05.930833Z\", \"duration\": \"0:05:57\", \"iteration\": \"6\", \"goal\": \"AUC_weighted_max\", \"run_name\": \"MaxAbsScaler, ExtremeRandomTrees\", \"run_properties\": \"copy=True\", \"primary_metric\": 0.8348593, \"best_metric\": 0.88802056}, {\"run_id\": \"AutoML_87495046-e406-4aaf-94ae-1fe2afbc4734_7\", \"run_number\": 12, \"metric\": null, \"status\": \"Completed\", \"run_type\": \"azureml.scriptrun\", \"training_percent\": \"100\", \"start_time\": \"2021-05-13T13:05:13.375571Z\", \"end_time\": \"2021-05-13T13:11:00.397904Z\", \"created_time\": \"2021-05-13T13:05:05.946189Z\", \"created_time_dt\": \"2021-05-13T13:05:05.946189Z\", \"duration\": \"0:05:54\", \"iteration\": \"7\", \"goal\": \"AUC_weighted_max\", \"run_name\": \"MaxAbsScaler, ExtremeRandomTrees\", \"run_properties\": \"copy=True\", \"primary_metric\": 0.7870503, \"best_metric\": 0.88802056}, {\"run_id\": \"AutoML_87495046-e406-4aaf-94ae-1fe2afbc4734_8\", \"run_number\": 13, \"metric\": null, \"status\": \"Completed\", \"run_type\": \"azureml.scriptrun\", \"training_percent\": \"100\", \"start_time\": \"2021-05-13T13:05:58.869674Z\", \"end_time\": \"2021-05-13T13:12:26.061522Z\", \"created_time\": \"2021-05-13T13:05:49.992675Z\", \"created_time_dt\": \"2021-05-13T13:05:49.992675Z\", \"duration\": \"0:06:36\", \"iteration\": \"8\", \"goal\": \"AUC_weighted_max\", \"run_name\": \"MaxAbsScaler, RandomForest\", \"run_properties\": \"copy=True\", \"primary_metric\": 0.82552678, \"best_metric\": 0.88802056}, {\"run_id\": \"AutoML_87495046-e406-4aaf-94ae-1fe2afbc4734_9\", \"run_number\": 14, \"metric\": null, \"status\": \"Completed\", \"run_type\": \"azureml.scriptrun\", \"training_percent\": \"100\", \"start_time\": \"2021-05-13T13:05:58.831107Z\", \"end_time\": \"2021-05-13T13:12:25.600742Z\", \"created_time\": \"2021-05-13T13:05:54.58137Z\", \"created_time_dt\": \"2021-05-13T13:05:54.58137Z\", \"duration\": \"0:06:31\", \"iteration\": \"9\", \"goal\": \"AUC_weighted_max\", \"run_name\": \"MaxAbsScaler, ExtremeRandomTrees\", \"run_properties\": \"copy=True\", \"primary_metric\": 0.81895601, \"best_metric\": 0.88802056}, {\"run_id\": \"AutoML_87495046-e406-4aaf-94ae-1fe2afbc4734_10\", \"run_number\": 15, \"metric\": null, \"status\": \"Completed\", \"run_type\": \"azureml.scriptrun\", \"training_percent\": \"100\", \"start_time\": \"2021-05-13T13:11:09.562836Z\", \"end_time\": \"2021-05-13T13:16:59.202757Z\", \"created_time\": \"2021-05-13T13:11:03.655653Z\", \"created_time_dt\": \"2021-05-13T13:11:03.655653Z\", \"duration\": \"0:05:55\", \"iteration\": \"10\", \"goal\": \"AUC_weighted_max\", \"run_name\": \"MaxAbsScaler, RandomForest\", \"run_properties\": \"copy=True\", \"primary_metric\": 0.79626587, \"best_metric\": 0.88802056}, {\"run_id\": \"AutoML_87495046-e406-4aaf-94ae-1fe2afbc4734_11\", \"run_number\": 16, \"metric\": null, \"status\": \"Completed\", \"run_type\": \"azureml.scriptrun\", \"training_percent\": \"100\", \"start_time\": \"2021-05-13T13:11:13.529648Z\", \"end_time\": \"2021-05-13T13:17:02.130603Z\", \"created_time\": \"2021-05-13T13:11:08.103108Z\", \"created_time_dt\": \"2021-05-13T13:11:08.103108Z\", \"duration\": \"0:05:54\", \"iteration\": \"11\", \"goal\": \"AUC_weighted_max\", \"run_name\": \"MaxAbsScaler, RandomForest\", \"run_properties\": \"copy=True\", \"primary_metric\": 0.82427361, \"best_metric\": 0.88802056}, {\"run_id\": \"AutoML_87495046-e406-4aaf-94ae-1fe2afbc4734_12\", \"run_number\": 17, \"metric\": null, \"status\": \"Completed\", \"run_type\": \"azureml.scriptrun\", \"training_percent\": \"100\", \"start_time\": \"2021-05-13T13:11:13.551566Z\", \"end_time\": \"2021-05-13T13:17:03.624691Z\", \"created_time\": \"2021-05-13T13:11:08.118975Z\", \"created_time_dt\": \"2021-05-13T13:11:08.118975Z\", \"duration\": \"0:05:55\", \"iteration\": \"12\", \"goal\": \"AUC_weighted_max\", \"run_name\": \"MaxAbsScaler, RandomForest\", \"run_properties\": \"copy=True\", \"primary_metric\": 0.8211339, \"best_metric\": 0.88802056}, {\"run_id\": \"AutoML_87495046-e406-4aaf-94ae-1fe2afbc4734_13\", \"run_number\": 18, \"metric\": null, \"status\": \"Canceled\", \"run_type\": \"azureml.scriptrun\", \"training_percent\": \"100\", \"start_time\": \"2021-05-13T13:12:41.772393Z\", \"end_time\": \"2021-05-13T13:20:17.658215Z\", \"created_time\": \"2021-05-13T13:12:29.118461Z\", \"created_time_dt\": \"2021-05-13T13:12:29.118461Z\", \"duration\": \"0:07:48\", \"iteration\": \"13\", \"goal\": \"AUC_weighted_max\", \"run_name\": \"StandardScalerWrapper, XGBoostClassifier\", \"run_properties\": \"<azureml.automl.runtime.shared.model_wrappers.StandardScalerWrapper object at 0x7f425f474860\", \"primary_metric\": 0.85055867, \"best_metric\": 0.88802056}, {\"run_id\": \"AutoML_87495046-e406-4aaf-94ae-1fe2afbc4734_14\", \"run_number\": 19, \"metric\": null, \"status\": \"Completed\", \"run_type\": \"azureml.scriptrun\", \"training_percent\": \"100\", \"start_time\": \"2021-05-13T13:12:41.90541Z\", \"end_time\": \"2021-05-13T13:20:13.344019Z\", \"created_time\": \"2021-05-13T13:12:29.13127Z\", \"created_time_dt\": \"2021-05-13T13:12:29.13127Z\", \"duration\": \"0:07:44\", \"iteration\": \"14\", \"goal\": \"AUC_weighted_max\", \"run_name\": \"MaxAbsScaler, RandomForest\", \"run_properties\": \"copy=True\", \"primary_metric\": 0.52783289, \"best_metric\": 0.88802056}, {\"run_id\": \"AutoML_87495046-e406-4aaf-94ae-1fe2afbc4734_15\", \"run_number\": 20, \"metric\": null, \"status\": \"Canceled\", \"run_type\": \"azureml.scriptrun\", \"training_percent\": \"100\", \"start_time\": \"2021-05-13T13:17:09.311487Z\", \"end_time\": \"2021-05-13T13:20:17.837609Z\", \"created_time\": \"2021-05-13T13:17:02.471772Z\", \"created_time_dt\": \"2021-05-13T13:17:02.471772Z\", \"duration\": \"0:03:15\", \"iteration\": \"15\", \"goal\": null, \"run_name\": \"Canceled\", \"run_properties\": null}, {\"run_id\": \"AutoML_87495046-e406-4aaf-94ae-1fe2afbc4734_16\", \"run_number\": 21, \"metric\": null, \"status\": \"Canceled\", \"run_type\": \"azureml.scriptrun\", \"training_percent\": \"100\", \"start_time\": \"2021-05-13T13:17:10.306788Z\", \"end_time\": \"2021-05-13T13:20:17.539266Z\", \"created_time\": \"2021-05-13T13:17:06.932541Z\", \"created_time_dt\": \"2021-05-13T13:17:06.932541Z\", \"duration\": \"0:03:10\", \"iteration\": \"16\", \"goal\": null, \"run_name\": \"Canceled\", \"run_properties\": null}, {\"run_id\": \"AutoML_87495046-e406-4aaf-94ae-1fe2afbc4734_17\", \"run_number\": 22, \"metric\": null, \"status\": \"Canceled\", \"run_type\": \"azureml.scriptrun\", \"training_percent\": \"100\", \"start_time\": \"2021-05-13T13:17:10.378396Z\", \"end_time\": \"2021-05-13T13:20:17.83215Z\", \"created_time\": \"2021-05-13T13:17:06.938849Z\", \"created_time_dt\": \"2021-05-13T13:17:06.938849Z\", \"duration\": \"0:03:10\", \"iteration\": \"17\", \"goal\": null, \"run_name\": \"Canceled\", \"run_properties\": null}, {\"run_id\": \"AutoML_87495046-e406-4aaf-94ae-1fe2afbc4734_18\", \"run_number\": 23, \"metric\": null, \"status\": \"Completed\", \"run_type\": \"azureml.scriptrun\", \"training_percent\": \"100\", \"start_time\": \"2021-05-13T13:20:30.924682Z\", \"end_time\": \"2021-05-13T13:26:25.959948Z\", \"created_time\": \"2021-05-13T13:20:18.779459Z\", \"created_time_dt\": \"2021-05-13T13:20:18.779459Z\", \"duration\": \"0:06:07\", \"iteration\": \"18\", \"goal\": \"AUC_weighted_max\", \"run_name\": \"VotingEnsemble\", \"run_properties\": \"classification_labels=None,\\n                              estimators=[('0',\\n                                           Pipeline(memory=None,\\n                                                    steps=[('maxabsscaler',\\n                                                            MaxAbsScaler(copy=True\", \"primary_metric\": 0.88687676, \"best_metric\": 0.88802056}, {\"run_id\": \"AutoML_87495046-e406-4aaf-94ae-1fe2afbc4734_19\", \"run_number\": 24, \"metric\": null, \"status\": \"Completed\", \"run_type\": \"azureml.scriptrun\", \"training_percent\": \"100\", \"start_time\": \"2021-05-13T13:20:31.873752Z\", \"end_time\": \"2021-05-13T13:26:45.674429Z\", \"created_time\": \"2021-05-13T13:20:18.844745Z\", \"created_time_dt\": \"2021-05-13T13:20:18.844745Z\", \"duration\": \"0:06:26\", \"iteration\": \"19\", \"goal\": \"AUC_weighted_max\", \"run_name\": \"StackEnsemble\", \"run_properties\": \"base_learners=[('0',\\n                                        Pipeline(memory=None,\\n                                                 steps=[('maxabsscaler',\\n                                                         MaxAbsScaler(copy=True\", \"primary_metric\": 0.88998678, \"best_metric\": 0.88998678}], \"children_metrics\": {\"categories\": [0], \"series\": {\"AUC_macro\": [{\"categories\": [\"0\", \"1\", \"2\", \"3\", \"4\", \"5\", \"6\", \"7\", \"8\", \"9\", \"10\", \"11\", \"12\", \"13\", \"14\", \"18\", \"19\"], \"mode\": \"markers\", \"name\": \"AUC_macro\", \"stepped\": false, \"type\": \"scatter\", \"data\": [0.8880205567577961, 0.8689316441922712, 0.7934132079944332, 0.6839388717969632, 0.7298732591937425, 0.8210668675215744, 0.8348593010237879, 0.7870502961420394, 0.8255267839113294, 0.8189560076207048, 0.796265874462284, 0.8242736073195924, 0.8211339041215189, 0.8505586878952065, 0.5278328910956873, 0.8868767571618283, 0.8899867796008221]}, {\"categories\": [\"0\", \"1\", \"2\", \"3\", \"4\", \"5\", \"6\", \"7\", \"8\", \"9\", \"10\", \"11\", \"12\", \"13\", \"14\", \"18\", \"19\"], \"mode\": \"lines\", \"name\": \"AUC_macro_max\", \"stepped\": true, \"type\": \"scatter\", \"data\": [0.8880205567577961, 0.8880205567577961, 0.8880205567577961, 0.8880205567577961, 0.8880205567577961, 0.8880205567577961, 0.8880205567577961, 0.8880205567577961, 0.8880205567577961, 0.8880205567577961, 0.8880205567577961, 0.8880205567577961, 0.8880205567577961, 0.8880205567577961, 0.8880205567577961, 0.8880205567577961, 0.8899867796008221]}], \"average_precision_score_weighted\": [{\"categories\": [\"0\", \"1\", \"2\", \"3\", \"4\", \"5\", \"6\", \"7\", \"8\", \"9\", \"10\", \"11\", \"12\", \"13\", \"14\", \"18\", \"19\"], \"mode\": \"markers\", \"name\": \"average_precision_score_weighted\", \"stepped\": false, \"type\": \"scatter\", \"data\": [0.9112648884519667, 0.8973141815879535, 0.8343620532514002, 0.7620290563955505, 0.7798501353910123, 0.8585693120431233, 0.8706773138297631, 0.8343214398120483, 0.8622143846368319, 0.8557578427184692, 0.8308611739398538, 0.8562873260547441, 0.8557186115228377, 0.8840198874373141, 0.6630208441962077, 0.9103526995792819, 0.9126120143522534]}, {\"categories\": [\"0\", \"1\", \"2\", \"3\", \"4\", \"5\", \"6\", \"7\", \"8\", \"9\", \"10\", \"11\", \"12\", \"13\", \"14\", \"18\", \"19\"], \"mode\": \"lines\", \"name\": \"average_precision_score_weighted_max\", \"stepped\": true, \"type\": \"scatter\", \"data\": [0.9112648884519667, 0.9112648884519667, 0.9112648884519667, 0.9112648884519667, 0.9112648884519667, 0.9112648884519667, 0.9112648884519667, 0.9112648884519667, 0.9112648884519667, 0.9112648884519667, 0.9112648884519667, 0.9112648884519667, 0.9112648884519667, 0.9112648884519667, 0.9112648884519667, 0.9112648884519667, 0.9126120143522534]}], \"log_loss\": [{\"categories\": [\"0\", \"1\", \"2\", \"3\", \"4\", \"5\", \"6\", \"7\", \"8\", \"9\", \"10\", \"11\", \"12\", \"13\", \"14\", \"18\", \"19\"], \"mode\": \"markers\", \"name\": \"log_loss\", \"stepped\": false, \"type\": \"scatter\", \"data\": [0.33375190969211654, 0.35697673489691517, 0.49360306426555434, 0.6859242210645465, 0.5003100059277881, 0.4211261024312659, 0.4130858392848855, 0.4974515282619603, 0.44191882718611747, 0.5720310213919131, 0.618450935112258, 0.549000281336906, 0.629834877091128, 0.4457924792531931, 0.5334039529627459, 0.3386192554841283, 0.3441097412717263]}, {\"categories\": [\"0\", \"1\", \"2\", \"3\", \"4\", \"5\", \"6\", \"7\", \"8\", \"9\", \"10\", \"11\", \"12\", \"13\", \"14\", \"18\", \"19\"], \"mode\": \"lines\", \"name\": \"log_loss_min\", \"stepped\": true, \"type\": \"scatter\", \"data\": [0.33375190969211654, 0.33375190969211654, 0.33375190969211654, 0.33375190969211654, 0.33375190969211654, 0.33375190969211654, 0.33375190969211654, 0.33375190969211654, 0.33375190969211654, 0.33375190969211654, 0.33375190969211654, 0.33375190969211654, 0.33375190969211654, 0.33375190969211654, 0.33375190969211654, 0.33375190969211654, 0.33375190969211654]}], \"f1_score_weighted\": [{\"categories\": [\"0\", \"1\", \"2\", \"3\", \"4\", \"5\", \"6\", \"7\", \"8\", \"9\", \"10\", \"11\", \"12\", \"13\", \"14\", \"18\", \"19\"], \"mode\": \"markers\", \"name\": \"f1_score_weighted\", \"stepped\": false, \"type\": \"scatter\", \"data\": [0.843467686219015, 0.8318370831368529, 0.6759756670039545, 0.6998492699794547, 0.6759756670039545, 0.7824248713795005, 0.7769029173041024, 0.6759756670039545, 0.6759756670039545, 0.7706389439564668, 0.7468933554274391, 0.7386732918190142, 0.769205095160836, 0.8194700806599589, 0.6759756670039545, 0.8416859242904721, 0.846612483815454]}, {\"categories\": [\"0\", \"1\", \"2\", \"3\", \"4\", \"5\", \"6\", \"7\", \"8\", \"9\", \"10\", \"11\", \"12\", \"13\", \"14\", \"18\", \"19\"], \"mode\": \"lines\", \"name\": \"f1_score_weighted_max\", \"stepped\": true, \"type\": \"scatter\", \"data\": [0.843467686219015, 0.843467686219015, 0.843467686219015, 0.843467686219015, 0.843467686219015, 0.843467686219015, 0.843467686219015, 0.843467686219015, 0.843467686219015, 0.843467686219015, 0.843467686219015, 0.843467686219015, 0.843467686219015, 0.843467686219015, 0.843467686219015, 0.843467686219015, 0.846612483815454]}], \"weighted_accuracy\": [{\"categories\": [\"0\", \"1\", \"2\", \"3\", \"4\", \"5\", \"6\", \"7\", \"8\", \"9\", \"10\", \"11\", \"12\", \"13\", \"14\", \"18\", \"19\"], \"mode\": \"markers\", \"name\": \"weighted_accuracy\", \"stepped\": false, \"type\": \"scatter\", \"data\": [0.9149374370693837, 0.9159093320510698, 0.9217911639203784, 0.7163729936886254, 0.9217911639203784, 0.9270979071669767, 0.9236977233457581, 0.9217911639203784, 0.9217911639203784, 0.7642343559252663, 0.7268394971203708, 0.7009376962687541, 0.7566863890422864, 0.9185247773450718, 0.9217911639203784, 0.9156396844045771, 0.9146253803725668]}, {\"categories\": [\"0\", \"1\", \"2\", \"3\", \"4\", \"5\", \"6\", \"7\", \"8\", \"9\", \"10\", \"11\", \"12\", \"13\", \"14\", \"18\", \"19\"], \"mode\": \"lines\", \"name\": \"weighted_accuracy_max\", \"stepped\": true, \"type\": \"scatter\", \"data\": [0.9149374370693837, 0.9159093320510698, 0.9217911639203784, 0.9217911639203784, 0.9217911639203784, 0.9270979071669767, 0.9270979071669767, 0.9270979071669767, 0.9270979071669767, 0.9270979071669767, 0.9270979071669767, 0.9270979071669767, 0.9270979071669767, 0.9270979071669767, 0.9270979071669767, 0.9270979071669767, 0.9270979071669767]}], \"AUC_weighted\": [{\"categories\": [\"0\", \"1\", \"2\", \"3\", \"4\", \"5\", \"6\", \"7\", \"8\", \"9\", \"10\", \"11\", \"12\", \"13\", \"14\", \"18\", \"19\"], \"mode\": \"markers\", \"name\": \"AUC_weighted\", \"stepped\": false, \"type\": \"scatter\", \"data\": [0.8880205567577962, 0.8689316480783121, 0.7934132079944333, 0.6839388717969633, 0.7298732591937425, 0.8210668675215744, 0.8348593010237879, 0.7870502961420394, 0.8255267839113294, 0.8189560076207046, 0.7962658744622839, 0.8242736073195924, 0.8211339041215189, 0.8505586684650017, 0.5278328910956873, 0.8868767571618282, 0.8899867796008221]}, {\"categories\": [\"0\", \"1\", \"2\", \"3\", \"4\", \"5\", \"6\", \"7\", \"8\", \"9\", \"10\", \"11\", \"12\", \"13\", \"14\", \"18\", \"19\"], \"mode\": \"lines\", \"name\": \"AUC_weighted_max\", \"stepped\": true, \"type\": \"scatter\", \"data\": [0.8880205567577962, 0.8880205567577962, 0.8880205567577962, 0.8880205567577962, 0.8880205567577962, 0.8880205567577962, 0.8880205567577962, 0.8880205567577962, 0.8880205567577962, 0.8880205567577962, 0.8880205567577962, 0.8880205567577962, 0.8880205567577962, 0.8880205567577962, 0.8880205567577962, 0.8880205567577962, 0.8899867796008221]}], \"precision_score_micro\": [{\"categories\": [\"0\", \"1\", \"2\", \"3\", \"4\", \"5\", \"6\", \"7\", \"8\", \"9\", \"10\", \"11\", \"12\", \"13\", \"14\", \"18\", \"19\"], \"mode\": \"markers\", \"name\": \"precision_score_micro\", \"stepped\": false, \"type\": \"scatter\", \"data\": [0.8530632341562918, 0.8452556798199339, 0.7744249841738764, 0.6827038053035099, 0.7744249841738764, 0.8207076035731871, 0.8162059506224942, 0.7744249841738764, 0.7744249841738764, 0.7557149890975593, 0.7274389815010199, 0.7163958641063516, 0.75311247098544, 0.8380811704297672, 0.7744249841738764, 0.8520081592459732, 0.8552437223042836]}, {\"categories\": [\"0\", \"1\", \"2\", \"3\", \"4\", \"5\", \"6\", \"7\", \"8\", \"9\", \"10\", \"11\", \"12\", \"13\", \"14\", \"18\", \"19\"], \"mode\": \"lines\", \"name\": \"precision_score_micro_max\", \"stepped\": true, \"type\": \"scatter\", \"data\": [0.8530632341562918, 0.8530632341562918, 0.8530632341562918, 0.8530632341562918, 0.8530632341562918, 0.8530632341562918, 0.8530632341562918, 0.8530632341562918, 0.8530632341562918, 0.8530632341562918, 0.8530632341562918, 0.8530632341562918, 0.8530632341562918, 0.8530632341562918, 0.8530632341562918, 0.8530632341562918, 0.8552437223042836]}], \"recall_score_macro\": [{\"categories\": [\"0\", \"1\", \"2\", \"3\", \"4\", \"5\", \"6\", \"7\", \"8\", \"9\", \"10\", \"11\", \"12\", \"13\", \"14\", \"18\", \"19\"], \"mode\": \"markers\", \"name\": \"recall_score_macro\", \"stepped\": false, \"type\": \"scatter\", \"data\": [0.7378412260645777, 0.7136846000192019, 0.5, 0.620005114833101, 0.5, 0.6225878081750666, 0.6160350017714995, 0.5, 0.5, 0.7398502424447883, 0.7285553400301963, 0.7451820311325107, 0.7464571284375374, 0.6882792579923516, 0.5, 0.7335136694339444, 0.7446633258819901]}, {\"categories\": [\"0\", \"1\", \"2\", \"3\", \"4\", \"5\", \"6\", \"7\", \"8\", \"9\", \"10\", \"11\", \"12\", \"13\", \"14\", \"18\", \"19\"], \"mode\": \"lines\", \"name\": \"recall_score_macro_max\", \"stepped\": true, \"type\": \"scatter\", \"data\": [0.7378412260645777, 0.7378412260645777, 0.7378412260645777, 0.7378412260645777, 0.7378412260645777, 0.7378412260645777, 0.7378412260645777, 0.7378412260645777, 0.7378412260645777, 0.7398502424447883, 0.7398502424447883, 0.7451820311325107, 0.7464571284375374, 0.7464571284375374, 0.7464571284375374, 0.7464571284375374, 0.7464571284375374]}], \"accuracy\": [{\"categories\": [\"0\", \"1\", \"2\", \"3\", \"4\", \"5\", \"6\", \"7\", \"8\", \"9\", \"10\", \"11\", \"12\", \"13\", \"14\", \"18\", \"19\"], \"mode\": \"markers\", \"name\": \"accuracy\", \"stepped\": false, \"type\": \"scatter\", \"data\": [0.8530632341562918, 0.8452556798199339, 0.7744249841738764, 0.6827038053035099, 0.7744249841738764, 0.8207076035731871, 0.8162059506224942, 0.7744249841738764, 0.7744249841738764, 0.7557149890975593, 0.7274389815010199, 0.7163958641063516, 0.75311247098544, 0.8380811704297672, 0.7744249841738764, 0.8520081592459732, 0.8552437223042836]}, {\"categories\": [\"0\", \"1\", \"2\", \"3\", \"4\", \"5\", \"6\", \"7\", \"8\", \"9\", \"10\", \"11\", \"12\", \"13\", \"14\", \"18\", \"19\"], \"mode\": \"lines\", \"name\": \"accuracy_max\", \"stepped\": true, \"type\": \"scatter\", \"data\": [0.8530632341562918, 0.8530632341562918, 0.8530632341562918, 0.8530632341562918, 0.8530632341562918, 0.8530632341562918, 0.8530632341562918, 0.8530632341562918, 0.8530632341562918, 0.8530632341562918, 0.8530632341562918, 0.8530632341562918, 0.8530632341562918, 0.8530632341562918, 0.8530632341562918, 0.8530632341562918, 0.8552437223042836]}], \"AUC_micro\": [{\"categories\": [\"0\", \"1\", \"2\", \"3\", \"4\", \"5\", \"6\", \"7\", \"8\", \"9\", \"10\", \"11\", \"12\", \"13\", \"14\", \"18\", \"19\"], \"mode\": \"markers\", \"name\": \"AUC_micro\", \"stepped\": false, \"type\": \"scatter\", \"data\": [0.9319414270380559, 0.9219262055707055, 0.8769382353937802, 0.7094678777643261, 0.8547385301438768, 0.8919540557783578, 0.897138055316382, 0.8747151494404481, 0.8881581361543509, 0.8134942069879014, 0.797057564264714, 0.8119102909613658, 0.8258900792872803, 0.9130411296059304, 0.7841492913261384, 0.9312587836019071, 0.9330616850012619]}, {\"categories\": [\"0\", \"1\", \"2\", \"3\", \"4\", \"5\", \"6\", \"7\", \"8\", \"9\", \"10\", \"11\", \"12\", \"13\", \"14\", \"18\", \"19\"], \"mode\": \"lines\", \"name\": \"AUC_micro_max\", \"stepped\": true, \"type\": \"scatter\", \"data\": [0.9319414270380559, 0.9319414270380559, 0.9319414270380559, 0.9319414270380559, 0.9319414270380559, 0.9319414270380559, 0.9319414270380559, 0.9319414270380559, 0.9319414270380559, 0.9319414270380559, 0.9319414270380559, 0.9319414270380559, 0.9319414270380559, 0.9319414270380559, 0.9319414270380559, 0.9319414270380559, 0.9330616850012619]}], \"recall_score_micro\": [{\"categories\": [\"0\", \"1\", \"2\", \"3\", \"4\", \"5\", \"6\", \"7\", \"8\", \"9\", \"10\", \"11\", \"12\", \"13\", \"14\", \"18\", \"19\"], \"mode\": \"markers\", \"name\": \"recall_score_micro\", \"stepped\": false, \"type\": \"scatter\", \"data\": [0.8530632341562918, 0.8452556798199339, 0.7744249841738764, 0.6827038053035099, 0.7744249841738764, 0.8207076035731871, 0.8162059506224942, 0.7744249841738764, 0.7744249841738764, 0.7557149890975593, 0.7274389815010199, 0.7163958641063516, 0.75311247098544, 0.8380811704297672, 0.7744249841738764, 0.8520081592459732, 0.8552437223042836]}, {\"categories\": [\"0\", \"1\", \"2\", \"3\", \"4\", \"5\", \"6\", \"7\", \"8\", \"9\", \"10\", \"11\", \"12\", \"13\", \"14\", \"18\", \"19\"], \"mode\": \"lines\", \"name\": \"recall_score_micro_max\", \"stepped\": true, \"type\": \"scatter\", \"data\": [0.8530632341562918, 0.8530632341562918, 0.8530632341562918, 0.8530632341562918, 0.8530632341562918, 0.8530632341562918, 0.8530632341562918, 0.8530632341562918, 0.8530632341562918, 0.8530632341562918, 0.8530632341562918, 0.8530632341562918, 0.8530632341562918, 0.8530632341562918, 0.8530632341562918, 0.8530632341562918, 0.8552437223042836]}], \"recall_score_weighted\": [{\"categories\": [\"0\", \"1\", \"2\", \"3\", \"4\", \"5\", \"6\", \"7\", \"8\", \"9\", \"10\", \"11\", \"12\", \"13\", \"14\", \"18\", \"19\"], \"mode\": \"markers\", \"name\": \"recall_score_weighted\", \"stepped\": false, \"type\": \"scatter\", \"data\": [0.8530632341562918, 0.8452556798199339, 0.7744249841738764, 0.6827038053035099, 0.7744249841738764, 0.8207076035731871, 0.8162059506224942, 0.7744249841738764, 0.7744249841738764, 0.7557149890975593, 0.7274389815010199, 0.7163958641063516, 0.75311247098544, 0.8380811704297672, 0.7744249841738764, 0.8520081592459732, 0.8552437223042836]}, {\"categories\": [\"0\", \"1\", \"2\", \"3\", \"4\", \"5\", \"6\", \"7\", \"8\", \"9\", \"10\", \"11\", \"12\", \"13\", \"14\", \"18\", \"19\"], \"mode\": \"lines\", \"name\": \"recall_score_weighted_max\", \"stepped\": true, \"type\": \"scatter\", \"data\": [0.8530632341562918, 0.8530632341562918, 0.8530632341562918, 0.8530632341562918, 0.8530632341562918, 0.8530632341562918, 0.8530632341562918, 0.8530632341562918, 0.8530632341562918, 0.8530632341562918, 0.8530632341562918, 0.8530632341562918, 0.8530632341562918, 0.8530632341562918, 0.8530632341562918, 0.8530632341562918, 0.8552437223042836]}], \"balanced_accuracy\": [{\"categories\": [\"0\", \"1\", \"2\", \"3\", \"4\", \"5\", \"6\", \"7\", \"8\", \"9\", \"10\", \"11\", \"12\", \"13\", \"14\", \"18\", \"19\"], \"mode\": \"markers\", \"name\": \"balanced_accuracy\", \"stepped\": false, \"type\": \"scatter\", \"data\": [0.7378412260645777, 0.7136846000192019, 0.5, 0.620005114833101, 0.5, 0.6225878081750666, 0.6160350017714995, 0.5, 0.5, 0.7398502424447883, 0.7285553400301963, 0.7451820311325107, 0.7464571284375374, 0.6882792579923516, 0.5, 0.7335136694339444, 0.7446633258819901]}, {\"categories\": [\"0\", \"1\", \"2\", \"3\", \"4\", \"5\", \"6\", \"7\", \"8\", \"9\", \"10\", \"11\", \"12\", \"13\", \"14\", \"18\", \"19\"], \"mode\": \"lines\", \"name\": \"balanced_accuracy_max\", \"stepped\": true, \"type\": \"scatter\", \"data\": [0.7378412260645777, 0.7378412260645777, 0.7378412260645777, 0.7378412260645777, 0.7378412260645777, 0.7378412260645777, 0.7378412260645777, 0.7378412260645777, 0.7378412260645777, 0.7398502424447883, 0.7398502424447883, 0.7451820311325107, 0.7464571284375374, 0.7464571284375374, 0.7464571284375374, 0.7464571284375374, 0.7464571284375374]}], \"precision_score_macro\": [{\"categories\": [\"0\", \"1\", \"2\", \"3\", \"4\", \"5\", \"6\", \"7\", \"8\", \"9\", \"10\", \"11\", \"12\", \"13\", \"14\", \"18\", \"19\"], \"mode\": \"markers\", \"name\": \"precision_score_macro\", \"stepped\": false, \"type\": \"scatter\", \"data\": [0.809883749763656, 0.8046016378151828, 0.3872124920869382, 0.5963571662667542, 0.3872124920869382, 0.8215571497978595, 0.8049204031203769, 0.3872124920869382, 0.3872124920869382, 0.6868647062818564, 0.6700664066143446, 0.6760738591151967, 0.68860506360126, 0.803371368731285, 0.3872124920869382, 0.8099214591790709, 0.8113714012197746]}, {\"categories\": [\"0\", \"1\", \"2\", \"3\", \"4\", \"5\", \"6\", \"7\", \"8\", \"9\", \"10\", \"11\", \"12\", \"13\", \"14\", \"18\", \"19\"], \"mode\": \"lines\", \"name\": \"precision_score_macro_max\", \"stepped\": true, \"type\": \"scatter\", \"data\": [0.809883749763656, 0.809883749763656, 0.809883749763656, 0.809883749763656, 0.809883749763656, 0.8215571497978595, 0.8215571497978595, 0.8215571497978595, 0.8215571497978595, 0.8215571497978595, 0.8215571497978595, 0.8215571497978595, 0.8215571497978595, 0.8215571497978595, 0.8215571497978595, 0.8215571497978595, 0.8215571497978595]}], \"f1_score_macro\": [{\"categories\": [\"0\", \"1\", \"2\", \"3\", \"4\", \"5\", \"6\", \"7\", \"8\", \"9\", \"10\", \"11\", \"12\", \"13\", \"14\", \"18\", \"19\"], \"mode\": \"markers\", \"name\": \"f1_score_macro\", \"stepped\": false, \"type\": \"scatter\", \"data\": [0.7637296025613258, 0.7426502774144669, 0.4364371506718992, 0.6000833782073461, 0.4364371506718992, 0.6458358639230134, 0.6368016980334713, 0.4364371506718992, 0.4364371506718992, 0.6987108279811393, 0.6761888935048268, 0.6750921768073435, 0.6996753352269404, 0.7191784138962742, 0.4364371506718992, 0.7603279451412045, 0.7693767568334148]}, {\"categories\": [\"0\", \"1\", \"2\", \"3\", \"4\", \"5\", \"6\", \"7\", \"8\", \"9\", \"10\", \"11\", \"12\", \"13\", \"14\", \"18\", \"19\"], \"mode\": \"lines\", \"name\": \"f1_score_macro_max\", \"stepped\": true, \"type\": \"scatter\", \"data\": [0.7637296025613258, 0.7637296025613258, 0.7637296025613258, 0.7637296025613258, 0.7637296025613258, 0.7637296025613258, 0.7637296025613258, 0.7637296025613258, 0.7637296025613258, 0.7637296025613258, 0.7637296025613258, 0.7637296025613258, 0.7637296025613258, 0.7637296025613258, 0.7637296025613258, 0.7637296025613258, 0.7693767568334148]}], \"f1_score_micro\": [{\"categories\": [\"0\", \"1\", \"2\", \"3\", \"4\", \"5\", \"6\", \"7\", \"8\", \"9\", \"10\", \"11\", \"12\", \"13\", \"14\", \"18\", \"19\"], \"mode\": \"markers\", \"name\": \"f1_score_micro\", \"stepped\": false, \"type\": \"scatter\", \"data\": [0.8530632341562918, 0.8452556798199339, 0.7744249841738764, 0.6827038053035099, 0.7744249841738764, 0.8207076035731871, 0.8162059506224942, 0.7744249841738764, 0.7744249841738764, 0.7557149890975593, 0.7274389815010199, 0.7163958641063516, 0.75311247098544, 0.8380811704297672, 0.7744249841738764, 0.8520081592459732, 0.8552437223042836]}, {\"categories\": [\"0\", \"1\", \"2\", \"3\", \"4\", \"5\", \"6\", \"7\", \"8\", \"9\", \"10\", \"11\", \"12\", \"13\", \"14\", \"18\", \"19\"], \"mode\": \"lines\", \"name\": \"f1_score_micro_max\", \"stepped\": true, \"type\": \"scatter\", \"data\": [0.8530632341562918, 0.8530632341562918, 0.8530632341562918, 0.8530632341562918, 0.8530632341562918, 0.8530632341562918, 0.8530632341562918, 0.8530632341562918, 0.8530632341562918, 0.8530632341562918, 0.8530632341562918, 0.8530632341562918, 0.8530632341562918, 0.8530632341562918, 0.8530632341562918, 0.8530632341562918, 0.8552437223042836]}], \"average_precision_score_micro\": [{\"categories\": [\"0\", \"1\", \"2\", \"3\", \"4\", \"5\", \"6\", \"7\", \"8\", \"9\", \"10\", \"11\", \"12\", \"13\", \"14\", \"18\", \"19\"], \"mode\": \"markers\", \"name\": \"average_precision_score_micro\", \"stepped\": false, \"type\": \"scatter\", \"data\": [0.9327932510021397, 0.9220173045746647, 0.871547142154534, 0.6859766549317394, 0.8363346440444235, 0.8903684089206991, 0.8973061849089993, 0.8733832851269686, 0.8871919302057726, 0.8078067649134666, 0.7862646742742005, 0.8184208202058036, 0.8151404190963405, 0.9106999695824609, 0.73104800117324, 0.9320515903191101, 0.933842572405531]}, {\"categories\": [\"0\", \"1\", \"2\", \"3\", \"4\", \"5\", \"6\", \"7\", \"8\", \"9\", \"10\", \"11\", \"12\", \"13\", \"14\", \"18\", \"19\"], \"mode\": \"lines\", \"name\": \"average_precision_score_micro_max\", \"stepped\": true, \"type\": \"scatter\", \"data\": [0.9327932510021397, 0.9327932510021397, 0.9327932510021397, 0.9327932510021397, 0.9327932510021397, 0.9327932510021397, 0.9327932510021397, 0.9327932510021397, 0.9327932510021397, 0.9327932510021397, 0.9327932510021397, 0.9327932510021397, 0.9327932510021397, 0.9327932510021397, 0.9327932510021397, 0.9327932510021397, 0.933842572405531]}], \"precision_score_weighted\": [{\"categories\": [\"0\", \"1\", \"2\", \"3\", \"4\", \"5\", \"6\", \"7\", \"8\", \"9\", \"10\", \"11\", \"12\", \"13\", \"14\", \"18\", \"19\"], \"mode\": \"markers\", \"name\": \"precision_score_weighted\", \"stepped\": false, \"type\": \"scatter\", \"data\": [0.844686922650314, 0.8358521047409115, 0.5997340561127086, 0.7279257709150271, 0.5997340561127086, 0.8210127620840451, 0.812149787174151, 0.5997340561127086, 0.5997340561127086, 0.8045511809392342, 0.7976464014392883, 0.8108201567366021, 0.8087079745577754, 0.8286859385652187, 0.5997340561127086, 0.843490151872727, 0.8472293378933289]}, {\"categories\": [\"0\", \"1\", \"2\", \"3\", \"4\", \"5\", \"6\", \"7\", \"8\", \"9\", \"10\", \"11\", \"12\", \"13\", \"14\", \"18\", \"19\"], \"mode\": \"lines\", \"name\": \"precision_score_weighted_max\", \"stepped\": true, \"type\": \"scatter\", \"data\": [0.844686922650314, 0.844686922650314, 0.844686922650314, 0.844686922650314, 0.844686922650314, 0.844686922650314, 0.844686922650314, 0.844686922650314, 0.844686922650314, 0.844686922650314, 0.844686922650314, 0.844686922650314, 0.844686922650314, 0.844686922650314, 0.844686922650314, 0.844686922650314, 0.8472293378933289]}], \"average_precision_score_macro\": [{\"categories\": [\"0\", \"1\", \"2\", \"3\", \"4\", \"5\", \"6\", \"7\", \"8\", \"9\", \"10\", \"11\", \"12\", \"13\", \"14\", \"18\", \"19\"], \"mode\": \"markers\", \"name\": \"average_precision_score_macro\", \"stepped\": false, \"type\": \"scatter\", \"data\": [0.8493026197021369, 0.8278954954318181, 0.7318811661984401, 0.6254514319495131, 0.655812540623836, 0.7657667966579753, 0.7846846082790417, 0.7277059388213292, 0.7734811361177132, 0.7575910660487424, 0.7191938953164958, 0.758163979886773, 0.7613496846260255, 0.8102202965295271, 0.5123681609316874, 0.8478667613921983, 0.8512550974399138]}, {\"categories\": [\"0\", \"1\", \"2\", \"3\", \"4\", \"5\", \"6\", \"7\", \"8\", \"9\", \"10\", \"11\", \"12\", \"13\", \"14\", \"18\", \"19\"], \"mode\": \"lines\", \"name\": \"average_precision_score_macro_max\", \"stepped\": true, \"type\": \"scatter\", \"data\": [0.8493026197021369, 0.8493026197021369, 0.8493026197021369, 0.8493026197021369, 0.8493026197021369, 0.8493026197021369, 0.8493026197021369, 0.8493026197021369, 0.8493026197021369, 0.8493026197021369, 0.8493026197021369, 0.8493026197021369, 0.8493026197021369, 0.8493026197021369, 0.8493026197021369, 0.8493026197021369, 0.8512550974399138]}], \"norm_macro_recall\": [{\"categories\": [\"0\", \"1\", \"2\", \"3\", \"4\", \"5\", \"6\", \"7\", \"8\", \"9\", \"10\", \"11\", \"12\", \"13\", \"14\", \"18\", \"19\"], \"mode\": \"markers\", \"name\": \"norm_macro_recall\", \"stepped\": false, \"type\": \"scatter\", \"data\": [0.4756824521291554, 0.42736920003840373, 0.0, 0.2400102296662019, 0.0, 0.2451756163501333, 0.232070003542999, 0.0, 0.0, 0.4797004848895765, 0.45711068006039257, 0.4903640622650214, 0.49291425687507484, 0.37655851598470313, 0.0, 0.4670273388678887, 0.48932665176398027]}, {\"categories\": [\"0\", \"1\", \"2\", \"3\", \"4\", \"5\", \"6\", \"7\", \"8\", \"9\", \"10\", \"11\", \"12\", \"13\", \"14\", \"18\", \"19\"], \"mode\": \"lines\", \"name\": \"norm_macro_recall_max\", \"stepped\": true, \"type\": \"scatter\", \"data\": [0.4756824521291554, 0.4756824521291554, 0.4756824521291554, 0.4756824521291554, 0.4756824521291554, 0.4756824521291554, 0.4756824521291554, 0.4756824521291554, 0.4756824521291554, 0.4797004848895765, 0.4797004848895765, 0.4903640622650214, 0.49291425687507484, 0.49291425687507484, 0.49291425687507484, 0.49291425687507484, 0.49291425687507484]}], \"matthews_correlation\": [{\"categories\": [\"0\", \"1\", \"2\", \"3\", \"4\", \"5\", \"6\", \"7\", \"8\", \"9\", \"10\", \"11\", \"12\", \"13\", \"14\", \"18\", \"19\"], \"mode\": \"markers\", \"name\": \"matthews_correlation\", \"stepped\": false, \"type\": \"scatter\", \"data\": [0.5429664114152062, 0.5102496610159819, 0.0, 0.21506606243509485, 0.0, 0.3970843043825388, 0.3761990936524929, 0.0, 0.0, 0.4234125416473981, 0.39430742012523745, 0.4155485358280231, 0.431198619589375, 0.4779896911057829, 0.0, 0.5380367911926738, 0.5520187047807913]}, {\"categories\": [\"0\", \"1\", \"2\", \"3\", \"4\", \"5\", \"6\", \"7\", \"8\", \"9\", \"10\", \"11\", \"12\", \"13\", \"14\", \"18\", \"19\"], \"mode\": \"lines\", \"name\": \"matthews_correlation_max\", \"stepped\": true, \"type\": \"scatter\", \"data\": [0.5429664114152062, 0.5429664114152062, 0.5429664114152062, 0.5429664114152062, 0.5429664114152062, 0.5429664114152062, 0.5429664114152062, 0.5429664114152062, 0.5429664114152062, 0.5429664114152062, 0.5429664114152062, 0.5429664114152062, 0.5429664114152062, 0.5429664114152062, 0.5429664114152062, 0.5429664114152062, 0.5520187047807913]}]}, \"metricName\": null, \"primaryMetricName\": \"AUC_weighted\", \"showLegend\": false}, \"run_metrics\": [{\"name\": \"experiment_status\", \"run_id\": \"AutoML_87495046-e406-4aaf-94ae-1fe2afbc4734\", \"categories\": [0, 1, 2, 3, 4, 5, 6, 7, 8, 9, 10, 11, 12], \"series\": [{\"data\": [\"DatasetEvaluation\", \"FeaturesGeneration\", \"DatasetFeaturization\", \"DatasetFeaturizationCompleted\", \"ModelSelection\", \"BestRunExplainModel\", \"ModelExplanationDataSetSetup\", \"PickSurrogateModel\", \"EngineeredFeatureExplanations\", \"EngineeredFeatureExplanations\", \"RawFeaturesExplanations\", \"RawFeaturesExplanations\", \"BestRunExplainModel\"]}]}, {\"name\": \"experiment_status_description\", \"run_id\": \"AutoML_87495046-e406-4aaf-94ae-1fe2afbc4734\", \"categories\": [0, 1, 2, 3, 4, 5, 6, 7, 8, 9, 10, 11, 12], \"series\": [{\"data\": [\"Gathering dataset statistics.\", \"Generating features for the dataset.\", \"Beginning to fit featurizers and featurize the dataset.\", \"Completed fit featurizers and featurizing the dataset.\", \"Beginning model selection.\", \"Best run model explanations started\", \"Model explanations data setup completed\", \"Choosing LinearModel as the surrogate model for explanations\", \"Computation of engineered features started\", \"Computation of engineered features completed\", \"Computation of raw features started\", \"Computation of raw features completed\", \"Best run model explanations completed\"]}]}, {\"name\": \"precision_score_macro\", \"run_id\": \"AutoML_87495046-e406-4aaf-94ae-1fe2afbc4734\", \"categories\": [0], \"series\": [{\"data\": [0.8113714012197746]}]}, {\"name\": \"norm_macro_recall\", \"run_id\": \"AutoML_87495046-e406-4aaf-94ae-1fe2afbc4734\", \"categories\": [0], \"series\": [{\"data\": [0.48932665176398027]}]}, {\"name\": \"f1_score_weighted\", \"run_id\": \"AutoML_87495046-e406-4aaf-94ae-1fe2afbc4734\", \"categories\": [0], \"series\": [{\"data\": [0.846612483815454]}]}, {\"name\": \"weighted_accuracy\", \"run_id\": \"AutoML_87495046-e406-4aaf-94ae-1fe2afbc4734\", \"categories\": [0], \"series\": [{\"data\": [0.9146253803725668]}]}, {\"name\": \"average_precision_score_weighted\", \"run_id\": \"AutoML_87495046-e406-4aaf-94ae-1fe2afbc4734\", \"categories\": [0], \"series\": [{\"data\": [0.9126120143522534]}]}, {\"name\": \"accuracy\", \"run_id\": \"AutoML_87495046-e406-4aaf-94ae-1fe2afbc4734\", \"categories\": [0], \"series\": [{\"data\": [0.8552437223042836]}]}, {\"name\": \"f1_score_micro\", \"run_id\": \"AutoML_87495046-e406-4aaf-94ae-1fe2afbc4734\", \"categories\": [0], \"series\": [{\"data\": [0.8552437223042836]}]}, {\"name\": \"AUC_macro\", \"run_id\": \"AutoML_87495046-e406-4aaf-94ae-1fe2afbc4734\", \"categories\": [0], \"series\": [{\"data\": [0.8899867796008221]}]}, {\"name\": \"log_loss\", \"run_id\": \"AutoML_87495046-e406-4aaf-94ae-1fe2afbc4734\", \"categories\": [0], \"series\": [{\"data\": [0.3441097412717263]}]}, {\"name\": \"precision_score_micro\", \"run_id\": \"AutoML_87495046-e406-4aaf-94ae-1fe2afbc4734\", \"categories\": [0], \"series\": [{\"data\": [0.8552437223042836]}]}, {\"name\": \"recall_score_micro\", \"run_id\": \"AutoML_87495046-e406-4aaf-94ae-1fe2afbc4734\", \"categories\": [0], \"series\": [{\"data\": [0.8552437223042836]}]}, {\"name\": \"AUC_weighted\", \"run_id\": \"AutoML_87495046-e406-4aaf-94ae-1fe2afbc4734\", \"categories\": [0], \"series\": [{\"data\": [0.8899867796008221]}]}, {\"name\": \"matthews_correlation\", \"run_id\": \"AutoML_87495046-e406-4aaf-94ae-1fe2afbc4734\", \"categories\": [0], \"series\": [{\"data\": [0.5520187047807913]}]}, {\"name\": \"average_precision_score_micro\", \"run_id\": \"AutoML_87495046-e406-4aaf-94ae-1fe2afbc4734\", \"categories\": [0], \"series\": [{\"data\": [0.933842572405531]}]}, {\"name\": \"precision_score_weighted\", \"run_id\": \"AutoML_87495046-e406-4aaf-94ae-1fe2afbc4734\", \"categories\": [0], \"series\": [{\"data\": [0.8472293378933289]}]}, {\"name\": \"f1_score_macro\", \"run_id\": \"AutoML_87495046-e406-4aaf-94ae-1fe2afbc4734\", \"categories\": [0], \"series\": [{\"data\": [0.7693767568334148]}]}, {\"name\": \"recall_score_weighted\", \"run_id\": \"AutoML_87495046-e406-4aaf-94ae-1fe2afbc4734\", \"categories\": [0], \"series\": [{\"data\": [0.8552437223042836]}]}, {\"name\": \"AUC_micro\", \"run_id\": \"AutoML_87495046-e406-4aaf-94ae-1fe2afbc4734\", \"categories\": [0], \"series\": [{\"data\": [0.9330616850012619]}]}, {\"name\": \"recall_score_macro\", \"run_id\": \"AutoML_87495046-e406-4aaf-94ae-1fe2afbc4734\", \"categories\": [0], \"series\": [{\"data\": [0.7446633258819901]}]}, {\"name\": \"average_precision_score_macro\", \"run_id\": \"AutoML_87495046-e406-4aaf-94ae-1fe2afbc4734\", \"categories\": [0], \"series\": [{\"data\": [0.8512550974399138]}]}, {\"name\": \"balanced_accuracy\", \"run_id\": \"AutoML_87495046-e406-4aaf-94ae-1fe2afbc4734\", \"categories\": [0], \"series\": [{\"data\": [0.7446633258819901]}]}], \"run_logs\": \"\\nRun is completed.\", \"graph\": {}, \"widget_settings\": {\"childWidgetDisplay\": \"popup\", \"send_telemetry\": false, \"log_level\": \"INFO\", \"sdk_version\": \"1.27.0\"}, \"loading\": false}"
          },
          "metadata": {}
        }
      ],
      "execution_count": 6,
      "metadata": {
        "gather": {
          "logged": 1620912420029
        },
        "jupyter": {
          "outputs_hidden": false,
          "source_hidden": false
        },
        "nteract": {
          "transient": {
            "deleting": false
          }
        }
      }
    },
    {
      "cell_type": "markdown",
      "source": [
        "## Best Model\n",
        "\n",
        "The best model was a **stackEnsemble** with a **weighted AUC** of 0.88998\n",
        "\n"
      ],
      "metadata": {}
    },
    {
      "cell_type": "code",
      "source": [
        "best_run, fitted_model = remote_run.get_output()\n",
        "print(best_run)\n",
        "\n",
        "best_run_metrics = best_run.get_metrics()\n",
        "print('Best Run Id: ', best_run.id)"
      ],
      "outputs": [
        {
          "output_type": "stream",
          "name": "stdout",
          "text": [
            "Run(Experiment: predict_rain_automl,\n",
            "Id: AutoML_87495046-e406-4aaf-94ae-1fe2afbc4734_19,\n",
            "Type: azureml.scriptrun,\n",
            "Status: Completed)\n",
            "Best Run Id:  AutoML_87495046-e406-4aaf-94ae-1fe2afbc4734_19\n"
          ]
        }
      ],
      "execution_count": 7,
      "metadata": {
        "gather": {
          "logged": 1620913608978
        },
        "jupyter": {
          "outputs_hidden": false,
          "source_hidden": false
        },
        "nteract": {
          "transient": {
            "deleting": false
          }
        }
      }
    },
    {
      "cell_type": "code",
      "source": [
        "print(fitted_model)"
      ],
      "outputs": [
        {
          "output_type": "stream",
          "name": "stdout",
          "text": [
            "Pipeline(memory=None,\n",
            "         steps=[('datatransformer',\n",
            "                 DataTransformer(enable_dnn=None, enable_feature_sweeping=None,\n",
            "                                 feature_sweeping_config=None,\n",
            "                                 feature_sweeping_timeout=None,\n",
            "                                 featurization_config=None, force_text_dnn=None,\n",
            "                                 is_cross_validation=None,\n",
            "                                 is_onnx_compatible=None, logger=None,\n",
            "                                 observer=None, task=None, working_dir=None)),\n",
            "                ('stackensembleclassifier',\n",
            "                 StackE...\n",
            "                                         meta_learner=LogisticRegressionCV(Cs=10,\n",
            "                                                                           class_weight=None,\n",
            "                                                                           cv=None,\n",
            "                                                                           dual=False,\n",
            "                                                                           fit_intercept=True,\n",
            "                                                                           intercept_scaling=1.0,\n",
            "                                                                           l1_ratios=None,\n",
            "                                                                           max_iter=100,\n",
            "                                                                           multi_class='auto',\n",
            "                                                                           n_jobs=None,\n",
            "                                                                           penalty='l2',\n",
            "                                                                           random_state=None,\n",
            "                                                                           refit=True,\n",
            "                                                                           scoring=<azureml.automl.runtime.stack_ensemble_base.Scorer object at 0x7fb476a1f358>,\n",
            "                                                                           solver='lbfgs',\n",
            "                                                                           tol=0.0001,\n",
            "                                                                           verbose=0),\n",
            "                                         training_cv_folds=5))],\n",
            "         verbose=False)\n",
            "Y_transformer(['LabelEncoder', LabelEncoder()])\n"
          ]
        }
      ],
      "execution_count": 8,
      "metadata": {
        "collapsed": true,
        "gather": {
          "logged": 1620913688669
        },
        "jupyter": {
          "outputs_hidden": false,
          "source_hidden": false
        },
        "nteract": {
          "transient": {
            "deleting": false
          }
        }
      }
    },
    {
      "cell_type": "code",
      "source": [
        "autoMLmodel = best_run.register_model(model_name='rain_autoML_model', \n",
        "                                    model_path='outputs/model.pkl',\n",
        "                                    tags={'Method':'AutoML'},\n",
        "                                    properties={'AUC_weighted': best_run_metrics['AUC_weighted']})\n",
        "\n",
        "print(autoMLmodel)"
      ],
      "outputs": [
        {
          "output_type": "stream",
          "name": "stdout",
          "text": [
            "Model(workspace=Workspace.create(name='quick-starts-ws-144713', subscription_id='61c5c3f0-6dc7-4ed9-a7f3-c704b20e3b30', resource_group='aml-quickstarts-144713'), name=rain_autoML_model, id=rain_autoML_model:1, version=1, tags={'Method': 'AutoML'}, properties={'AUC_weighted': '0.8899867796008221'})\n"
          ]
        }
      ],
      "execution_count": 9,
      "metadata": {
        "gather": {
          "logged": 1620915781917
        },
        "jupyter": {
          "outputs_hidden": false,
          "source_hidden": false
        },
        "nteract": {
          "transient": {
            "deleting": false
          }
        }
      }
    },
    {
      "cell_type": "markdown",
      "source": [
        "## Model Deployment\n",
        "\n",
        "Since the autoML yielded a slightly better result than the hyperdrive runs (around 3%), I will deploy the \"rain_autoML_model"
      ],
      "metadata": {}
    },
    {
      "cell_type": "code",
      "source": [
        "best_run.download_file('outputs/scoring_file_v_1_0_0.py', 'score.py')\n",
        "best_run.download_file('outputs/conda_env_v_1_0_0.yml', 'env.yml')\n",
        "aciconfig = AciWebservice.deploy_configuration(cpu_cores=1, \n",
        "                                               memory_gb=1, \n",
        "                                               description='Predict if it will rain tomorrow in Australia')\n",
        "\n",
        "inference_config = InferenceConfig(entry_script=\"score.py\", environment=best_run.get_environment())\n",
        "\n"
      ],
      "outputs": [],
      "execution_count": 15,
      "metadata": {
        "gather": {
          "logged": 1620917292268
        },
        "jupyter": {
          "outputs_hidden": false,
          "source_hidden": false
        },
        "nteract": {
          "transient": {
            "deleting": false
          }
        }
      }
    },
    {
      "cell_type": "code",
      "source": [
        "# Deploy service\n",
        "service = Model.deploy(workspace=ws, \n",
        "                       name='predict-rain-webservice', \n",
        "                       models=[autoMLmodel], \n",
        "                       inference_config=inference_config, \n",
        "                       deployment_config=aciconfig)"
      ],
      "outputs": [],
      "execution_count": 17,
      "metadata": {
        "gather": {
          "logged": 1620917480892
        }
      }
    },
    {
      "cell_type": "code",
      "source": [
        "# Check deployment status\n",
        "service.wait_for_deployment(show_output=True)\n",
        "\n",
        "print(\"Service State: \",service.state)\n",
        "print(\"Scoring URI: \",service.scoring_uri)\n",
        "print(\"Swagger URI: \",service.swagger_uri)"
      ],
      "outputs": [
        {
          "output_type": "stream",
          "name": "stdout",
          "text": [
            "Tips: You can try get_logs(): https://aka.ms/debugimage#dockerlog or local deployment: https://aka.ms/debugimage#debug-locally to debug if deployment takes longer than 10 minutes.\n",
            "Running\n",
            "2021-05-13 14:51:20+00:00 Creating Container Registry if not exists.\n",
            "2021-05-13 14:51:20+00:00 Registering the environment.\n",
            "2021-05-13 14:51:21+00:00 Use the existing image.\n",
            "2021-05-13 14:51:21+00:00 Generating deployment configuration.\n",
            "2021-05-13 14:51:22+00:00 Submitting deployment to compute.\n",
            "2021-05-13 14:51:25+00:00 Checking the status of deployment predict-rain-webservice..\n",
            "2021-05-13 14:55:11+00:00 Checking the status of inference endpoint predict-rain-webservice.\n",
            "Succeeded\n",
            "ACI service creation operation finished, operation \"Succeeded\"\n",
            "Service State:  Healthy\n",
            "Scoring URI:  http://fd3b1788-817d-4183-916f-de6dda0b7bb8.southcentralus.azurecontainer.io/score\n",
            "Swagger URI:  http://fd3b1788-817d-4183-916f-de6dda0b7bb8.southcentralus.azurecontainer.io/swagger.json\n"
          ]
        }
      ],
      "execution_count": 18,
      "metadata": {
        "gather": {
          "logged": 1620917718374
        }
      }
    },
    {
      "cell_type": "code",
      "source": [
        "# Sample data from original dataset as payload\n",
        "df_test = df.dropna()\n",
        "test_sample = df_test.sample(n=10, random_state=10) \n",
        "label_sample = test_sample.pop('RainTomorrow')\n",
        "\n",
        "samples = json.dumps({'data': test_sample.to_dict(orient=\"records\")})\n",
        "\n",
        "print(samples)"
      ],
      "outputs": [
        {
          "output_type": "stream",
          "name": "stdout",
          "text": [
            "{\"data\": [{\"Date\": \"28.07.2010\", \"Location\": \"Sale\", \"MinTemp\": 1.2, \"MaxTemp\": 12.4, \"Rainfall\": 0.2, \"Evaporation\": \"1.2\", \"Sunshine\": \"5.7\", \"WindGustDir\": \"E\", \"WindGustSpeed\": 19.0, \"WindDir9am\": \"NW\", \"WindDir3pm\": \"ESE\", \"WindSpeed9am\": 6.0, \"WindSpeed3pm\": 13.0, \"Humidity9am\": 97.0, \"Humidity3pm\": 67.0, \"Pressure9am\": 1029.0, \"Pressure3pm\": 1023.2, \"Cloud9am\": 7.0, \"Cloud3pm\": 6.0, \"Temp9am\": 4.9, \"Temp3pm\": 12.2, \"RainToday\": false}, {\"Date\": \"12.04.2010\", \"Location\": \"MountGambier\", \"MinTemp\": 10.5, \"MaxTemp\": 16.7, \"Rainfall\": 0.2, \"Evaporation\": \"3.4\", \"Sunshine\": \"2.2\", \"WindGustDir\": \"SW\", \"WindGustSpeed\": 39.0, \"WindDir9am\": \"SW\", \"WindDir3pm\": \"SW\", \"WindSpeed9am\": 20.0, \"WindSpeed3pm\": 22.0, \"Humidity9am\": 59.0, \"Humidity3pm\": 56.0, \"Pressure9am\": 1021.9, \"Pressure3pm\": 1022.0, \"Cloud9am\": 3.0, \"Cloud3pm\": 7.0, \"Temp9am\": 14.7, \"Temp3pm\": 15.6, \"RainToday\": false}, {\"Date\": \"29.07.2014\", \"Location\": \"Portland\", \"MinTemp\": 10.6, \"MaxTemp\": 15.2, \"Rainfall\": 3.6, \"Evaporation\": \"1.8\", \"Sunshine\": \"3.2\", \"WindGustDir\": \"WNW\", \"WindGustSpeed\": 81.0, \"WindDir9am\": \"NW\", \"WindDir3pm\": \"WNW\", \"WindSpeed9am\": 44.0, \"WindSpeed3pm\": 46.0, \"Humidity9am\": 86.0, \"Humidity3pm\": 83.0, \"Pressure9am\": 1005.2, \"Pressure3pm\": 1005.3, \"Cloud9am\": 8.0, \"Cloud3pm\": 8.0, \"Temp9am\": 14.0, \"Temp3pm\": 14.7, \"RainToday\": true}, {\"Date\": \"11.06.2011\", \"Location\": \"Moree\", \"MinTemp\": 2.4, \"MaxTemp\": 18.2, \"Rainfall\": 0.0, \"Evaporation\": \"3.2\", \"Sunshine\": \"2.9\", \"WindGustDir\": \"ESE\", \"WindGustSpeed\": 30.0, \"WindDir9am\": \"SSE\", \"WindDir3pm\": \"S\", \"WindSpeed9am\": 7.0, \"WindSpeed3pm\": 13.0, \"Humidity9am\": 70.0, \"Humidity3pm\": 36.0, \"Pressure9am\": 1020.8, \"Pressure3pm\": 1019.3, \"Cloud9am\": 7.0, \"Cloud3pm\": 5.0, \"Temp9am\": 8.2, \"Temp3pm\": 17.7, \"RainToday\": false}, {\"Date\": \"07.04.2017\", \"Location\": \"Sydney\", \"MinTemp\": 14.1, \"MaxTemp\": 23.8, \"Rainfall\": 0.0, \"Evaporation\": \"3.4\", \"Sunshine\": \"10.6\", \"WindGustDir\": \"ENE\", \"WindGustSpeed\": 28.0, \"WindDir9am\": \"WNW\", \"WindDir3pm\": \"E\", \"WindSpeed9am\": 11.0, \"WindSpeed3pm\": 13.0, \"Humidity9am\": 69.0, \"Humidity3pm\": 41.0, \"Pressure9am\": 1028.4, \"Pressure3pm\": 1025.7, \"Cloud9am\": 2.0, \"Cloud3pm\": 2.0, \"Temp9am\": 18.7, \"Temp3pm\": 23.7, \"RainToday\": false}, {\"Date\": \"20.05.2015\", \"Location\": \"Cairns\", \"MinTemp\": 20.4, \"MaxTemp\": 29.9, \"Rainfall\": 0.0, \"Evaporation\": \"5.2\", \"Sunshine\": \"10.9\", \"WindGustDir\": \"ESE\", \"WindGustSpeed\": 35.0, \"WindDir9am\": \"SE\", \"WindDir3pm\": \"ESE\", \"WindSpeed9am\": 17.0, \"WindSpeed3pm\": 15.0, \"Humidity9am\": 70.0, \"Humidity3pm\": 54.0, \"Pressure9am\": 1017.5, \"Pressure3pm\": 1014.4, \"Cloud9am\": 1.0, \"Cloud3pm\": 1.0, \"Temp9am\": 25.1, \"Temp3pm\": 28.4, \"RainToday\": false}, {\"Date\": \"25.10.2012\", \"Location\": \"MelbourneAirport\", \"MinTemp\": 14.6, \"MaxTemp\": 21.3, \"Rainfall\": 0.0, \"Evaporation\": \"8.2\", \"Sunshine\": \"5.9\", \"WindGustDir\": \"WSW\", \"WindGustSpeed\": 63.0, \"WindDir9am\": \"WNW\", \"WindDir3pm\": \"W\", \"WindSpeed9am\": 24.0, \"WindSpeed3pm\": 35.0, \"Humidity9am\": 48.0, \"Humidity3pm\": 53.0, \"Pressure9am\": 1006.7, \"Pressure3pm\": 1010.9, \"Cloud9am\": 3.0, \"Cloud3pm\": 7.0, \"Temp9am\": 19.6, \"Temp3pm\": 18.2, \"RainToday\": false}, {\"Date\": \"11.02.2010\", \"Location\": \"WaggaWagga\", \"MinTemp\": 20.2, \"MaxTemp\": 36.6, \"Rainfall\": 3.4, \"Evaporation\": \"7.8\", \"Sunshine\": \"11.6\", \"WindGustDir\": \"WNW\", \"WindGustSpeed\": 52.0, \"WindDir9am\": \"E\", \"WindDir3pm\": \"NNW\", \"WindSpeed9am\": 11.0, \"WindSpeed3pm\": 11.0, \"Humidity9am\": 68.0, \"Humidity3pm\": 30.0, \"Pressure9am\": 1015.9, \"Pressure3pm\": 1011.0, \"Cloud9am\": 2.0, \"Cloud3pm\": 6.0, \"Temp9am\": 24.6, \"Temp3pm\": 34.5, \"RainToday\": true}, {\"Date\": \"23.09.2014\", \"Location\": \"NorfolkIsland\", \"MinTemp\": 13.7, \"MaxTemp\": 18.6, \"Rainfall\": 0.8, \"Evaporation\": \"5.4\", \"Sunshine\": \"6.9\", \"WindGustDir\": \"S\", \"WindGustSpeed\": 39.0, \"WindDir9am\": \"S\", \"WindDir3pm\": \"SSE\", \"WindSpeed9am\": 17.0, \"WindSpeed3pm\": 20.0, \"Humidity9am\": 76.0, \"Humidity3pm\": 50.0, \"Pressure9am\": 1025.4, \"Pressure3pm\": 1023.7, \"Cloud9am\": 7.0, \"Cloud3pm\": 6.0, \"Temp9am\": 16.1, \"Temp3pm\": 17.5, \"RainToday\": false}, {\"Date\": \"16.01.2014\", \"Location\": \"PerthAirport\", \"MinTemp\": 18.1, \"MaxTemp\": 25.9, \"Rainfall\": 0.4, \"Evaporation\": \"9.6\", \"Sunshine\": \"13\", \"WindGustDir\": \"SW\", \"WindGustSpeed\": 48.0, \"WindDir9am\": \"SSW\", \"WindDir3pm\": \"SW\", \"WindSpeed9am\": 19.0, \"WindSpeed3pm\": 30.0, \"Humidity9am\": 45.0, \"Humidity3pm\": 38.0, \"Pressure9am\": 1012.8, \"Pressure3pm\": 1012.0, \"Cloud9am\": 4.0, \"Cloud3pm\": 1.0, \"Temp9am\": 22.2, \"Temp3pm\": 24.8, \"RainToday\": false}]}\n"
          ]
        }
      ],
      "execution_count": 37,
      "metadata": {
        "gather": {
          "logged": 1620918411351
        },
        "jupyter": {
          "outputs_hidden": false,
          "source_hidden": false
        },
        "nteract": {
          "transient": {
            "deleting": false
          }
        }
      }
    },
    {
      "cell_type": "code",
      "source": [
        "scoring_uri = service.scoring_uri\n",
        "input_data = samples\n",
        "headers = {'Content-Type': 'application/json'}\n",
        "\n",
        "# Send request to webservice, display response\n",
        "resp = requests.post(scoring_uri, input_data, headers=headers)\n",
        "print(resp.text)"
      ],
      "outputs": [
        {
          "output_type": "stream",
          "name": "stdout",
          "text": [
            "\"{\\\"result\\\": [false, false, true, false, false, false, false, false, false, false]}\"\n"
          ]
        }
      ],
      "execution_count": 38,
      "metadata": {
        "gather": {
          "logged": 1620918416370
        }
      }
    },
    {
      "cell_type": "code",
      "source": [
        "#  print logs of web service & delete service\n",
        "print(service.get_logs())\n",
        "service.delete()\n"
      ],
      "outputs": [
        {
          "output_type": "stream",
          "name": "stdout",
          "text": [
            "2021-05-13T14:55:05,952620900+00:00 - gunicorn/run \n",
            "2021-05-13T14:55:05,957248900+00:00 - iot-server/run \n",
            "2021-05-13T14:55:05,952058900+00:00 - rsyslog/run \n",
            "2021-05-13T14:55:05,994146300+00:00 - nginx/run \n",
            "/usr/sbin/nginx: /azureml-envs/azureml_98cae94c606e3ceb655a787040a8a93c/lib/libcrypto.so.1.0.0: no version information available (required by /usr/sbin/nginx)\n",
            "/usr/sbin/nginx: /azureml-envs/azureml_98cae94c606e3ceb655a787040a8a93c/lib/libcrypto.so.1.0.0: no version information available (required by /usr/sbin/nginx)\n",
            "/usr/sbin/nginx: /azureml-envs/azureml_98cae94c606e3ceb655a787040a8a93c/lib/libssl.so.1.0.0: no version information available (required by /usr/sbin/nginx)\n",
            "/usr/sbin/nginx: /azureml-envs/azureml_98cae94c606e3ceb655a787040a8a93c/lib/libssl.so.1.0.0: no version information available (required by /usr/sbin/nginx)\n",
            "/usr/sbin/nginx: /azureml-envs/azureml_98cae94c606e3ceb655a787040a8a93c/lib/libssl.so.1.0.0: no version information available (required by /usr/sbin/nginx)\n",
            "rsyslogd: /azureml-envs/azureml_98cae94c606e3ceb655a787040a8a93c/lib/libuuid.so.1: no version information available (required by rsyslogd)\n",
            "EdgeHubConnectionString and IOTEDGE_IOTHUBHOSTNAME are not set. Exiting...\n",
            "2021-05-13T14:55:06,426275500+00:00 - iot-server/finish 1 0\n",
            "2021-05-13T14:55:06,428697500+00:00 - Exit code 1 is normal. Not restarting iot-server.\n",
            "Starting gunicorn 19.9.0\n",
            "Listening at: http://127.0.0.1:31311 (73)\n",
            "Using worker: sync\n",
            "worker timeout is set to 300\n",
            "Booting worker with pid: 102\n",
            "SPARK_HOME not set. Skipping PySpark Initialization.\n",
            "Generating new fontManager, this may take some time...\n",
            "Initializing logger\n",
            "2021-05-13 14:55:08,870 | root | INFO | Starting up app insights client\n",
            "2021-05-13 14:55:08,870 | root | INFO | Starting up request id generator\n",
            "2021-05-13 14:55:08,871 | root | INFO | Starting up app insight hooks\n",
            "2021-05-13 14:55:08,871 | root | INFO | Invoking user's init function\n",
            "2021-05-13 14:55:13,447 | azureml.core | WARNING | Failure while loading azureml_run_type_providers. Failed to load entrypoint automl = azureml.train.automl.run:AutoMLRun._from_run_dto with exception cannot import name 'RunType'.\n",
            "Failure while loading azureml_run_type_providers. Failed to load entrypoint automl = azureml.train.automl.run:AutoMLRun._from_run_dto with exception cannot import name 'RunType'.\n",
            "2021-05-13 14:55:14,072 | root | INFO | Users's init has completed successfully\n",
            "2021-05-13 14:55:14,090 | root | INFO | Skipping middleware: dbg_model_info as it's not enabled.\n",
            "2021-05-13 14:55:14,091 | root | INFO | Skipping middleware: dbg_resource_usage as it's not enabled.\n",
            "2021-05-13 14:55:14,093 | root | INFO | Scoring timeout is found from os.environ: 60000 ms\n",
            "2021-05-13 14:55:16,796 | root | INFO | 200\n",
            "127.0.0.1 - - [13/May/2021:14:55:16 +0000] \"GET /swagger.json HTTP/1.0\" 200 3798 \"-\" \"Go-http-client/1.1\"\n",
            "2021-05-13 14:55:18,093 | root | INFO | 200\n",
            "127.0.0.1 - - [13/May/2021:14:55:18 +0000] \"GET /swagger.json HTTP/1.0\" 200 3798 \"-\" \"Go-http-client/1.1\"\n",
            "2021-05-13 14:57:59,074 | root | INFO | 200\n",
            "127.0.0.1 - - [13/May/2021:14:57:59 +0000] \"GET /swagger.json HTTP/1.0\" 200 3798 \"-\" \"Go-http-client/1.1\"\n",
            "2021-05-13 14:58:18,179 | root | INFO | 200\n",
            "127.0.0.1 - - [13/May/2021:14:58:18 +0000] \"GET /swagger.json HTTP/1.0\" 200 3798 \"-\" \"Go-http-client/1.1\"\n",
            "2021-05-13 14:58:20,128 | root | INFO | 200\n",
            "127.0.0.1 - - [13/May/2021:14:58:20 +0000] \"GET /swagger.json HTTP/1.0\" 200 3798 \"-\" \"Go-http-client/1.1\"\n",
            "2021-05-13 15:00:24,541 | root | INFO | Validation Request Content-Type\n",
            "2021-05-13 15:00:24,543 | root | INFO | Scoring Timer is set to 60.0 seconds\n",
            "2021-05-13 15:00:24,548 | root | ERROR | Encountered Exception: Traceback (most recent call last):\n",
            "  File \"/var/azureml-server/synchronous/routes.py\", line 64, in run_scoring\n",
            "    response = invoke_user_with_timer(service_input, request_headers)\n",
            "  File \"/var/azureml-server/synchronous/routes.py\", line 97, in invoke_user_with_timer\n",
            "    result = user_main.run(**params)\n",
            "  File \"/azureml-envs/azureml_98cae94c606e3ceb655a787040a8a93c/lib/python3.6/site-packages/wrapt/wrappers.py\", line 567, in __call__\n",
            "    args, kwargs)\n",
            "  File \"/azureml-envs/azureml_98cae94c606e3ceb655a787040a8a93c/lib/python3.6/site-packages/inference_schema/schema_decorators.py\", line 57, in decorator_input\n",
            "    kwargs[param_name] = _deserialize_input_argument(kwargs[param_name], param_type, param_name)\n",
            "  File \"/azureml-envs/azureml_98cae94c606e3ceb655a787040a8a93c/lib/python3.6/site-packages/inference_schema/schema_decorators.py\", line 285, in _deserialize_input_argument\n",
            "    input_data = param_type.deserialize_input(input_data)\n",
            "  File \"/azureml-envs/azureml_98cae94c606e3ceb655a787040a8a93c/lib/python3.6/site-packages/inference_schema/parameter_types/pandas_parameter_type.py\", line 68, in deserialize_input\n",
            "    data_frame = pd.read_json(json.dumps(input_data), orient=self.orient)\n",
            "  File \"/azureml-envs/azureml_98cae94c606e3ceb655a787040a8a93c/lib/python3.6/site-packages/pandas/io/json/_json.py\", line 592, in read_json\n",
            "    result = json_reader.read()\n",
            "  File \"/azureml-envs/azureml_98cae94c606e3ceb655a787040a8a93c/lib/python3.6/site-packages/pandas/io/json/_json.py\", line 717, in read\n",
            "    obj = self._get_object_parser(self.data)\n",
            "  File \"/azureml-envs/azureml_98cae94c606e3ceb655a787040a8a93c/lib/python3.6/site-packages/pandas/io/json/_json.py\", line 739, in _get_object_parser\n",
            "    obj = FrameParser(json, **kwargs).parse()\n",
            "  File \"/azureml-envs/azureml_98cae94c606e3ceb655a787040a8a93c/lib/python3.6/site-packages/pandas/io/json/_json.py\", line 849, in parse\n",
            "    self._parse_no_numpy()\n",
            "  File \"/azureml-envs/azureml_98cae94c606e3ceb655a787040a8a93c/lib/python3.6/site-packages/pandas/io/json/_json.py\", line 1116, in _parse_no_numpy\n",
            "    loads(json, precise_float=self.precise_float), dtype=None\n",
            "ValueError: Expected object or value\n",
            "\n",
            "During handling of the above exception, another exception occurred:\n",
            "\n",
            "Traceback (most recent call last):\n",
            "  File \"/azureml-envs/azureml_98cae94c606e3ceb655a787040a8a93c/lib/python3.6/site-packages/flask/app.py\", line 1832, in full_dispatch_request\n",
            "    rv = self.dispatch_request()\n",
            "  File \"/azureml-envs/azureml_98cae94c606e3ceb655a787040a8a93c/lib/python3.6/site-packages/flask/app.py\", line 1818, in dispatch_request\n",
            "    return self.view_functions[rule.endpoint](**req.view_args)\n",
            "  File \"/var/azureml-server/synchronous/routes.py\", line 43, in score_realtime\n",
            "    return run_scoring(service_input, request.headers, request.environ.get('REQUEST_ID', '00000000-0000-0000-0000-000000000000'))\n",
            "  File \"/var/azureml-server/synchronous/routes.py\", line 77, in run_scoring\n",
            "    raise RunFunctionException(str(exc))\n",
            "run_function_exception.RunFunctionException\n",
            "\n",
            "2021-05-13 15:00:24,548 | root | INFO | 500\n",
            "127.0.0.1 - - [13/May/2021:15:00:24 +0000] \"POST /score HTTP/1.0\" 500 24 \"-\" \"python-requests/2.25.1\"\n",
            "Exception in worker process\n",
            "Traceback (most recent call last):\n",
            "  File \"/azureml-envs/azureml_98cae94c606e3ceb655a787040a8a93c/lib/python3.6/site-packages/gunicorn/arbiter.py\", line 583, in spawn_worker\n",
            "    worker.init_process()\n",
            "  File \"/azureml-envs/azureml_98cae94c606e3ceb655a787040a8a93c/lib/python3.6/site-packages/gunicorn/workers/base.py\", line 134, in init_process\n",
            "    self.run()\n",
            "  File \"/azureml-envs/azureml_98cae94c606e3ceb655a787040a8a93c/lib/python3.6/site-packages/gunicorn/workers/sync.py\", line 124, in run\n",
            "    self.run_for_one(timeout)\n",
            "  File \"/azureml-envs/azureml_98cae94c606e3ceb655a787040a8a93c/lib/python3.6/site-packages/gunicorn/workers/sync.py\", line 83, in run_for_one\n",
            "    self.wait(timeout)\n",
            "  File \"/azureml-envs/azureml_98cae94c606e3ceb655a787040a8a93c/lib/python3.6/site-packages/gunicorn/workers/sync.py\", line 35, in wait\n",
            "    ret = select.select(self.wait_fds, [], [], timeout)\n",
            "  File \"/var/azureml-server/routes_common.py\", line 162, in alarm_handler\n",
            "    raise TimeoutException(error_message)\n",
            "timeout_exception.TimeoutException\n",
            "Worker exiting (pid: 102)\n",
            "worker timeout is set to 300\n",
            "Booting worker with pid: 206\n",
            "SPARK_HOME not set. Skipping PySpark Initialization.\n",
            "Initializing logger\n",
            "2021-05-13 15:01:26,581 | root | INFO | Starting up app insights client\n",
            "2021-05-13 15:01:26,581 | root | INFO | Starting up request id generator\n",
            "2021-05-13 15:01:26,582 | root | INFO | Starting up app insight hooks\n",
            "2021-05-13 15:01:26,586 | root | INFO | Invoking user's init function\n",
            "2021-05-13 15:01:30,497 | azureml.core | WARNING | Failure while loading azureml_run_type_providers. Failed to load entrypoint automl = azureml.train.automl.run:AutoMLRun._from_run_dto with exception cannot import name 'RunType'.\n",
            "Failure while loading azureml_run_type_providers. Failed to load entrypoint automl = azureml.train.automl.run:AutoMLRun._from_run_dto with exception cannot import name 'RunType'.\n",
            "2021-05-13 15:01:31,123 | root | INFO | Users's init has completed successfully\n",
            "2021-05-13 15:01:31,124 | root | INFO | Skipping middleware: dbg_model_info as it's not enabled.\n",
            "2021-05-13 15:01:31,124 | root | INFO | Skipping middleware: dbg_resource_usage as it's not enabled.\n",
            "2021-05-13 15:01:31,129 | root | INFO | Scoring timeout is found from os.environ: 60000 ms\n",
            "2021-05-13 15:02:38,749 | root | INFO | Validation Request Content-Type\n",
            "2021-05-13 15:02:38,762 | root | INFO | Scoring Timer is set to 60.0 seconds\n",
            "2021-05-13 15:02:38,784 | root | ERROR | Encountered Exception: Traceback (most recent call last):\n",
            "  File \"/var/azureml-server/synchronous/routes.py\", line 64, in run_scoring\n",
            "    response = invoke_user_with_timer(service_input, request_headers)\n",
            "  File \"/var/azureml-server/synchronous/routes.py\", line 97, in invoke_user_with_timer\n",
            "    result = user_main.run(**params)\n",
            "  File \"/azureml-envs/azureml_98cae94c606e3ceb655a787040a8a93c/lib/python3.6/site-packages/wrapt/wrappers.py\", line 567, in __call__\n",
            "    args, kwargs)\n",
            "  File \"/azureml-envs/azureml_98cae94c606e3ceb655a787040a8a93c/lib/python3.6/site-packages/inference_schema/schema_decorators.py\", line 57, in decorator_input\n",
            "    kwargs[param_name] = _deserialize_input_argument(kwargs[param_name], param_type, param_name)\n",
            "  File \"/azureml-envs/azureml_98cae94c606e3ceb655a787040a8a93c/lib/python3.6/site-packages/inference_schema/schema_decorators.py\", line 285, in _deserialize_input_argument\n",
            "    input_data = param_type.deserialize_input(input_data)\n",
            "  File \"/azureml-envs/azureml_98cae94c606e3ceb655a787040a8a93c/lib/python3.6/site-packages/inference_schema/parameter_types/pandas_parameter_type.py\", line 68, in deserialize_input\n",
            "    data_frame = pd.read_json(json.dumps(input_data), orient=self.orient)\n",
            "  File \"/azureml-envs/azureml_98cae94c606e3ceb655a787040a8a93c/lib/python3.6/site-packages/pandas/io/json/_json.py\", line 592, in read_json\n",
            "    result = json_reader.read()\n",
            "  File \"/azureml-envs/azureml_98cae94c606e3ceb655a787040a8a93c/lib/python3.6/site-packages/pandas/io/json/_json.py\", line 717, in read\n",
            "    obj = self._get_object_parser(self.data)\n",
            "  File \"/azureml-envs/azureml_98cae94c606e3ceb655a787040a8a93c/lib/python3.6/site-packages/pandas/io/json/_json.py\", line 739, in _get_object_parser\n",
            "    obj = FrameParser(json, **kwargs).parse()\n",
            "  File \"/azureml-envs/azureml_98cae94c606e3ceb655a787040a8a93c/lib/python3.6/site-packages/pandas/io/json/_json.py\", line 849, in parse\n",
            "    self._parse_no_numpy()\n",
            "  File \"/azureml-envs/azureml_98cae94c606e3ceb655a787040a8a93c/lib/python3.6/site-packages/pandas/io/json/_json.py\", line 1116, in _parse_no_numpy\n",
            "    loads(json, precise_float=self.precise_float), dtype=None\n",
            "ValueError: Expected object or value\n",
            "\n",
            "During handling of the above exception, another exception occurred:\n",
            "\n",
            "Traceback (most recent call last):\n",
            "  File \"/azureml-envs/azureml_98cae94c606e3ceb655a787040a8a93c/lib/python3.6/site-packages/flask/app.py\", line 1832, in full_dispatch_request\n",
            "    rv = self.dispatch_request()\n",
            "  File \"/azureml-envs/azureml_98cae94c606e3ceb655a787040a8a93c/lib/python3.6/site-packages/flask/app.py\", line 1818, in dispatch_request\n",
            "    return self.view_functions[rule.endpoint](**req.view_args)\n",
            "  File \"/var/azureml-server/synchronous/routes.py\", line 43, in score_realtime\n",
            "    return run_scoring(service_input, request.headers, request.environ.get('REQUEST_ID', '00000000-0000-0000-0000-000000000000'))\n",
            "  File \"/var/azureml-server/synchronous/routes.py\", line 77, in run_scoring\n",
            "    raise RunFunctionException(str(exc))\n",
            "run_function_exception.RunFunctionException\n",
            "\n",
            "2021-05-13 15:02:38,786 | root | INFO | 500\n",
            "127.0.0.1 - - [13/May/2021:15:02:38 +0000] \"POST /score HTTP/1.0\" 500 24 \"-\" \"python-requests/2.25.1\"\n",
            "2021-05-13 15:03:07,554 | root | INFO | Validation Request Content-Type\n",
            "2021-05-13 15:03:07,556 | root | INFO | Scoring Timer is set to 60.0 seconds\n",
            "2021-05-13 15:03:07,557 | root | ERROR | Encountered Exception: Traceback (most recent call last):\n",
            "  File \"/var/azureml-server/synchronous/routes.py\", line 64, in run_scoring\n",
            "    response = invoke_user_with_timer(service_input, request_headers)\n",
            "  File \"/var/azureml-server/synchronous/routes.py\", line 97, in invoke_user_with_timer\n",
            "    result = user_main.run(**params)\n",
            "  File \"/azureml-envs/azureml_98cae94c606e3ceb655a787040a8a93c/lib/python3.6/site-packages/wrapt/wrappers.py\", line 567, in __call__\n",
            "    args, kwargs)\n",
            "  File \"/azureml-envs/azureml_98cae94c606e3ceb655a787040a8a93c/lib/python3.6/site-packages/inference_schema/schema_decorators.py\", line 57, in decorator_input\n",
            "    kwargs[param_name] = _deserialize_input_argument(kwargs[param_name], param_type, param_name)\n",
            "  File \"/azureml-envs/azureml_98cae94c606e3ceb655a787040a8a93c/lib/python3.6/site-packages/inference_schema/schema_decorators.py\", line 285, in _deserialize_input_argument\n",
            "    input_data = param_type.deserialize_input(input_data)\n",
            "  File \"/azureml-envs/azureml_98cae94c606e3ceb655a787040a8a93c/lib/python3.6/site-packages/inference_schema/parameter_types/pandas_parameter_type.py\", line 68, in deserialize_input\n",
            "    data_frame = pd.read_json(json.dumps(input_data), orient=self.orient)\n",
            "  File \"/azureml-envs/azureml_98cae94c606e3ceb655a787040a8a93c/lib/python3.6/site-packages/pandas/io/json/_json.py\", line 592, in read_json\n",
            "    result = json_reader.read()\n",
            "  File \"/azureml-envs/azureml_98cae94c606e3ceb655a787040a8a93c/lib/python3.6/site-packages/pandas/io/json/_json.py\", line 717, in read\n",
            "    obj = self._get_object_parser(self.data)\n",
            "  File \"/azureml-envs/azureml_98cae94c606e3ceb655a787040a8a93c/lib/python3.6/site-packages/pandas/io/json/_json.py\", line 739, in _get_object_parser\n",
            "    obj = FrameParser(json, **kwargs).parse()\n",
            "  File \"/azureml-envs/azureml_98cae94c606e3ceb655a787040a8a93c/lib/python3.6/site-packages/pandas/io/json/_json.py\", line 849, in parse\n",
            "    self._parse_no_numpy()\n",
            "  File \"/azureml-envs/azureml_98cae94c606e3ceb655a787040a8a93c/lib/python3.6/site-packages/pandas/io/json/_json.py\", line 1116, in _parse_no_numpy\n",
            "    loads(json, precise_float=self.precise_float), dtype=None\n",
            "ValueError: Expected object or value\n",
            "\n",
            "During handling of the above exception, another exception occurred:\n",
            "\n",
            "Traceback (most recent call last):\n",
            "  File \"/azureml-envs/azureml_98cae94c606e3ceb655a787040a8a93c/lib/python3.6/site-packages/flask/app.py\", line 1832, in full_dispatch_request\n",
            "    rv = self.dispatch_request()\n",
            "  File \"/azureml-envs/azureml_98cae94c606e3ceb655a787040a8a93c/lib/python3.6/site-packages/flask/app.py\", line 1818, in dispatch_request\n",
            "    return self.view_functions[rule.endpoint](**req.view_args)\n",
            "  File \"/var/azureml-server/synchronous/routes.py\", line 43, in score_realtime\n",
            "    return run_scoring(service_input, request.headers, request.environ.get('REQUEST_ID', '00000000-0000-0000-0000-000000000000'))\n",
            "  File \"/var/azureml-server/synchronous/routes.py\", line 77, in run_scoring\n",
            "    raise RunFunctionException(str(exc))\n",
            "run_function_exception.RunFunctionException\n",
            "\n",
            "2021-05-13 15:03:07,557 | root | INFO | 500\n",
            "127.0.0.1 - - [13/May/2021:15:03:07 +0000] \"POST /score HTTP/1.0\" 500 24 \"-\" \"python-requests/2.25.1\"\n",
            "2021-05-13 15:03:43,488 | root | INFO | Validation Request Content-Type\n",
            "2021-05-13 15:03:43,489 | root | INFO | Scoring Timer is set to 60.0 seconds\n",
            "2021-05-13 15:03:43,491 | root | ERROR | Encountered Exception: Traceback (most recent call last):\n",
            "  File \"/var/azureml-server/synchronous/routes.py\", line 64, in run_scoring\n",
            "    response = invoke_user_with_timer(service_input, request_headers)\n",
            "  File \"/var/azureml-server/synchronous/routes.py\", line 97, in invoke_user_with_timer\n",
            "    result = user_main.run(**params)\n",
            "  File \"/azureml-envs/azureml_98cae94c606e3ceb655a787040a8a93c/lib/python3.6/site-packages/wrapt/wrappers.py\", line 567, in __call__\n",
            "    args, kwargs)\n",
            "  File \"/azureml-envs/azureml_98cae94c606e3ceb655a787040a8a93c/lib/python3.6/site-packages/inference_schema/schema_decorators.py\", line 57, in decorator_input\n",
            "    kwargs[param_name] = _deserialize_input_argument(kwargs[param_name], param_type, param_name)\n",
            "  File \"/azureml-envs/azureml_98cae94c606e3ceb655a787040a8a93c/lib/python3.6/site-packages/inference_schema/schema_decorators.py\", line 285, in _deserialize_input_argument\n",
            "    input_data = param_type.deserialize_input(input_data)\n",
            "  File \"/azureml-envs/azureml_98cae94c606e3ceb655a787040a8a93c/lib/python3.6/site-packages/inference_schema/parameter_types/pandas_parameter_type.py\", line 68, in deserialize_input\n",
            "    data_frame = pd.read_json(json.dumps(input_data), orient=self.orient)\n",
            "  File \"/azureml-envs/azureml_98cae94c606e3ceb655a787040a8a93c/lib/python3.6/site-packages/pandas/io/json/_json.py\", line 592, in read_json\n",
            "    result = json_reader.read()\n",
            "  File \"/azureml-envs/azureml_98cae94c606e3ceb655a787040a8a93c/lib/python3.6/site-packages/pandas/io/json/_json.py\", line 717, in read\n",
            "    obj = self._get_object_parser(self.data)\n",
            "  File \"/azureml-envs/azureml_98cae94c606e3ceb655a787040a8a93c/lib/python3.6/site-packages/pandas/io/json/_json.py\", line 739, in _get_object_parser\n",
            "    obj = FrameParser(json, **kwargs).parse()\n",
            "  File \"/azureml-envs/azureml_98cae94c606e3ceb655a787040a8a93c/lib/python3.6/site-packages/pandas/io/json/_json.py\", line 849, in parse\n",
            "    self._parse_no_numpy()\n",
            "  File \"/azureml-envs/azureml_98cae94c606e3ceb655a787040a8a93c/lib/python3.6/site-packages/pandas/io/json/_json.py\", line 1116, in _parse_no_numpy\n",
            "    loads(json, precise_float=self.precise_float), dtype=None\n",
            "ValueError: Expected object or value\n",
            "\n",
            "During handling of the above exception, another exception occurred:\n",
            "\n",
            "Traceback (most recent call last):\n",
            "  File \"/azureml-envs/azureml_98cae94c606e3ceb655a787040a8a93c/lib/python3.6/site-packages/flask/app.py\", line 1832, in full_dispatch_request\n",
            "    rv = self.dispatch_request()\n",
            "  File \"/azureml-envs/azureml_98cae94c606e3ceb655a787040a8a93c/lib/python3.6/site-packages/flask/app.py\", line 1818, in dispatch_request\n",
            "    return self.view_functions[rule.endpoint](**req.view_args)\n",
            "  File \"/var/azureml-server/synchronous/routes.py\", line 43, in score_realtime\n",
            "    return run_scoring(service_input, request.headers, request.environ.get('REQUEST_ID', '00000000-0000-0000-0000-000000000000'))\n",
            "  File \"/var/azureml-server/synchronous/routes.py\", line 77, in run_scoring\n",
            "    raise RunFunctionException(str(exc))\n",
            "run_function_exception.RunFunctionException\n",
            "\n",
            "2021-05-13 15:03:43,491 | root | INFO | 500\n",
            "127.0.0.1 - - [13/May/2021:15:03:43 +0000] \"POST /score HTTP/1.0\" 500 24 \"-\" \"python-requests/2.25.1\"\n",
            "2021-05-13 15:04:02,149 | root | INFO | Validation Request Content-Type\n",
            "2021-05-13 15:04:02,150 | root | INFO | Scoring Timer is set to 60.0 seconds\n",
            "2021-05-13 15:04:02,151 | root | ERROR | Encountered Exception: Traceback (most recent call last):\n",
            "  File \"/var/azureml-server/synchronous/routes.py\", line 64, in run_scoring\n",
            "    response = invoke_user_with_timer(service_input, request_headers)\n",
            "  File \"/var/azureml-server/synchronous/routes.py\", line 97, in invoke_user_with_timer\n",
            "    result = user_main.run(**params)\n",
            "  File \"/azureml-envs/azureml_98cae94c606e3ceb655a787040a8a93c/lib/python3.6/site-packages/wrapt/wrappers.py\", line 567, in __call__\n",
            "    args, kwargs)\n",
            "  File \"/azureml-envs/azureml_98cae94c606e3ceb655a787040a8a93c/lib/python3.6/site-packages/inference_schema/schema_decorators.py\", line 57, in decorator_input\n",
            "    kwargs[param_name] = _deserialize_input_argument(kwargs[param_name], param_type, param_name)\n",
            "  File \"/azureml-envs/azureml_98cae94c606e3ceb655a787040a8a93c/lib/python3.6/site-packages/inference_schema/schema_decorators.py\", line 285, in _deserialize_input_argument\n",
            "    input_data = param_type.deserialize_input(input_data)\n",
            "  File \"/azureml-envs/azureml_98cae94c606e3ceb655a787040a8a93c/lib/python3.6/site-packages/inference_schema/parameter_types/pandas_parameter_type.py\", line 68, in deserialize_input\n",
            "    data_frame = pd.read_json(json.dumps(input_data), orient=self.orient)\n",
            "  File \"/azureml-envs/azureml_98cae94c606e3ceb655a787040a8a93c/lib/python3.6/site-packages/pandas/io/json/_json.py\", line 592, in read_json\n",
            "    result = json_reader.read()\n",
            "  File \"/azureml-envs/azureml_98cae94c606e3ceb655a787040a8a93c/lib/python3.6/site-packages/pandas/io/json/_json.py\", line 717, in read\n",
            "    obj = self._get_object_parser(self.data)\n",
            "  File \"/azureml-envs/azureml_98cae94c606e3ceb655a787040a8a93c/lib/python3.6/site-packages/pandas/io/json/_json.py\", line 739, in _get_object_parser\n",
            "    obj = FrameParser(json, **kwargs).parse()\n",
            "  File \"/azureml-envs/azureml_98cae94c606e3ceb655a787040a8a93c/lib/python3.6/site-packages/pandas/io/json/_json.py\", line 849, in parse\n",
            "    self._parse_no_numpy()\n",
            "  File \"/azureml-envs/azureml_98cae94c606e3ceb655a787040a8a93c/lib/python3.6/site-packages/pandas/io/json/_json.py\", line 1116, in _parse_no_numpy\n",
            "    loads(json, precise_float=self.precise_float), dtype=None\n",
            "ValueError: Expected object or value\n",
            "\n",
            "During handling of the above exception, another exception occurred:\n",
            "\n",
            "Traceback (most recent call last):\n",
            "  File \"/azureml-envs/azureml_98cae94c606e3ceb655a787040a8a93c/lib/python3.6/site-packages/flask/app.py\", line 1832, in full_dispatch_request\n",
            "    rv = self.dispatch_request()\n",
            "  File \"/azureml-envs/azureml_98cae94c606e3ceb655a787040a8a93c/lib/python3.6/site-packages/flask/app.py\", line 1818, in dispatch_request\n",
            "    return self.view_functions[rule.endpoint](**req.view_args)\n",
            "  File \"/var/azureml-server/synchronous/routes.py\", line 43, in score_realtime\n",
            "    return run_scoring(service_input, request.headers, request.environ.get('REQUEST_ID', '00000000-0000-0000-0000-000000000000'))\n",
            "  File \"/var/azureml-server/synchronous/routes.py\", line 77, in run_scoring\n",
            "    raise RunFunctionException(str(exc))\n",
            "run_function_exception.RunFunctionException\n",
            "\n",
            "2021-05-13 15:04:02,152 | root | INFO | 500\n",
            "127.0.0.1 - - [13/May/2021:15:04:02 +0000] \"POST /score HTTP/1.0\" 500 24 \"-\" \"python-requests/2.25.1\"\n",
            "Exception in worker process\n",
            "Traceback (most recent call last):\n",
            "  File \"/azureml-envs/azureml_98cae94c606e3ceb655a787040a8a93c/lib/python3.6/site-packages/gunicorn/arbiter.py\", line 583, in spawn_worker\n",
            "    worker.init_process()\n",
            "  File \"/azureml-envs/azureml_98cae94c606e3ceb655a787040a8a93c/lib/python3.6/site-packages/gunicorn/workers/base.py\", line 134, in init_process\n",
            "    self.run()\n",
            "  File \"/azureml-envs/azureml_98cae94c606e3ceb655a787040a8a93c/lib/python3.6/site-packages/gunicorn/workers/sync.py\", line 124, in run\n",
            "    self.run_for_one(timeout)\n",
            "  File \"/azureml-envs/azureml_98cae94c606e3ceb655a787040a8a93c/lib/python3.6/site-packages/gunicorn/workers/sync.py\", line 83, in run_for_one\n",
            "    self.wait(timeout)\n",
            "  File \"/azureml-envs/azureml_98cae94c606e3ceb655a787040a8a93c/lib/python3.6/site-packages/gunicorn/workers/sync.py\", line 35, in wait\n",
            "    ret = select.select(self.wait_fds, [], [], timeout)\n",
            "  File \"/var/azureml-server/routes_common.py\", line 162, in alarm_handler\n",
            "    raise TimeoutException(error_message)\n",
            "timeout_exception.TimeoutException\n",
            "Worker exiting (pid: 206)\n",
            "worker timeout is set to 300\n",
            "Booting worker with pid: 264\n",
            "SPARK_HOME not set. Skipping PySpark Initialization.\n",
            "Initializing logger\n",
            "2021-05-13 15:05:09,983 | root | INFO | Starting up app insights client\n",
            "2021-05-13 15:05:09,983 | root | INFO | Starting up request id generator\n",
            "2021-05-13 15:05:09,984 | root | INFO | Starting up app insight hooks\n",
            "2021-05-13 15:05:09,985 | root | INFO | Invoking user's init function\n",
            "2021-05-13 15:05:18,187 | azureml.core | WARNING | Failure while loading azureml_run_type_providers. Failed to load entrypoint automl = azureml.train.automl.run:AutoMLRun._from_run_dto with exception cannot import name 'RunType'.\n",
            "Failure while loading azureml_run_type_providers. Failed to load entrypoint automl = azureml.train.automl.run:AutoMLRun._from_run_dto with exception cannot import name 'RunType'.\n",
            "2021-05-13 15:05:19,305 | root | INFO | Users's init has completed successfully\n",
            "2021-05-13 15:05:19,326 | root | INFO | Skipping middleware: dbg_model_info as it's not enabled.\n",
            "2021-05-13 15:05:19,327 | root | INFO | Skipping middleware: dbg_resource_usage as it's not enabled.\n",
            "2021-05-13 15:05:19,348 | root | INFO | Scoring timeout is found from os.environ: 60000 ms\n",
            "2021-05-13 15:05:45,790 | root | INFO | Validation Request Content-Type\n",
            "2021-05-13 15:05:45,791 | root | INFO | Scoring Timer is set to 60.0 seconds\n",
            "2021-05-13 15:05:46,190 | root | INFO | 200\n",
            "127.0.0.1 - - [13/May/2021:15:05:46 +0000] \"POST /score HTTP/1.0\" 200 30 \"-\" \"python-requests/2.25.1\"\n",
            "2021-05-13 15:06:28,080 | root | INFO | Validation Request Content-Type\n",
            "2021-05-13 15:06:28,081 | root | INFO | Scoring Timer is set to 60.0 seconds\n",
            "2021-05-13 15:06:28,364 | root | INFO | 200\n",
            "127.0.0.1 - - [13/May/2021:15:06:28 +0000] \"POST /score HTTP/1.0\" 200 86 \"-\" \"python-requests/2.25.1\"\n",
            "2021-05-13 15:06:56,022 | root | INFO | Validation Request Content-Type\n",
            "2021-05-13 15:06:56,022 | root | INFO | Scoring Timer is set to 60.0 seconds\n",
            "2021-05-13 15:06:56,301 | root | INFO | 200\n",
            "127.0.0.1 - - [13/May/2021:15:06:56 +0000] \"POST /score HTTP/1.0\" 200 85 \"-\" \"python-requests/2.25.1\"\n",
            "2021-05-13 15:08:04,612 | root | INFO | 200\n",
            "127.0.0.1 - - [13/May/2021:15:08:04 +0000] \"GET /swagger.json HTTP/1.0\" 200 3798 \"-\" \"Go-http-client/1.1\"\n",
            "\n"
          ]
        }
      ],
      "execution_count": 39,
      "metadata": {
        "jupyter": {
          "outputs_hidden": false,
          "source_hidden": false
        },
        "nteract": {
          "transient": {
            "deleting": false
          }
        },
        "gather": {
          "logged": 1620918539091
        }
      }
    }
  ],
  "metadata": {
    "kernel_info": {
      "name": "python3"
    },
    "kernelspec": {
      "name": "python3",
      "language": "python",
      "display_name": "Python 3"
    },
    "language_info": {
      "name": "python",
      "version": "3.6.9",
      "mimetype": "text/x-python",
      "codemirror_mode": {
        "name": "ipython",
        "version": 3
      },
      "pygments_lexer": "ipython3",
      "nbconvert_exporter": "python",
      "file_extension": ".py"
    },
    "microsoft": {
      "host": {
        "AzureML": {
          "notebookHasBeenCompleted": true
        }
      }
    },
    "nteract": {
      "version": "nteract-front-end@1.0.0"
    },
    "toc": {
      "toc_position": {},
      "skip_h1_title": false,
      "number_sections": true,
      "title_cell": "Table of Contents",
      "toc_window_display": false,
      "base_numbering": 1,
      "toc_section_display": true,
      "title_sidebar": "Contents",
      "toc_cell": false,
      "nav_menu": {},
      "sideBar": true
    },
    "varInspector": {
      "cols": {
        "lenName": 16,
        "lenType": 16,
        "lenVar": 40
      },
      "kernels_config": {
        "python": {
          "delete_cmd_postfix": "",
          "delete_cmd_prefix": "del ",
          "library": "var_list.py",
          "varRefreshCmd": "print(var_dic_list())"
        },
        "r": {
          "delete_cmd_postfix": ") ",
          "delete_cmd_prefix": "rm(",
          "library": "var_list.r",
          "varRefreshCmd": "cat(var_dic_list()) "
        }
      },
      "types_to_exclude": [
        "module",
        "function",
        "builtin_function_or_method",
        "instance",
        "_Feature"
      ],
      "window_display": false
    }
  },
  "nbformat": 4,
  "nbformat_minor": 2
}